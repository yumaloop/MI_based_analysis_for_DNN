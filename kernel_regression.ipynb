{
 "cells": [
  {
   "cell_type": "markdown",
   "metadata": {},
   "source": [
    "# Kernel Regression (with Gradient Descent Method)\n",
    "---\n",
    "\n",
    "カーネル回帰+勾配降下法のコード．numpy only.\n"
   ]
  },
  {
   "cell_type": "markdown",
   "metadata": {},
   "source": [
<<<<<<< HEAD
    "$n$ 個のデータサンプル $\\mathcal{D} = \\left\\{ x^{(i)}, y^{(i)} \\right\\} \\, (i=1, \\cdots n)$ から，関数 $y = f(x)$を近似する．回帰モデルはカーネル関数$k$とパラメータ${\\alpha}_i \\, (i=1 \\cdots n)$を用いて以下の式で表される．\n",
=======
    "$n$ 個のデータサンプル $\\mathcal{D} = \\left\\{ x^{(i)}, y^{(i)} \\right\\} \  (i=1, \\cdots n)$ から，関数 $y = f(x)$を近似する．回帰モデルはカーネル関数$k$とパラメータ${\\alpha}_i ~ (i=1 \\cdots n)$を用いて以下の式で表される．\n",
>>>>>>> 8386568fe3bc67bc36e29915773546a56d04f39c
    "\n",
    "$$\n",
    "    \\hat{y}^{(i)} = \\sum_{j=1}^{n} \\alpha_j k(x^{(i)}, x^{(j)}) \\,\\,\\, i=1 \\cdots n\n",
    "$$\n",
    "\n",
    "推定値$\\hat{y}^{(i)}$と真値$y^{(i)}$の間の距離を残差(residual)として計算する．データサンプルにモデルをfitさせて，残差の合計(あるいは平均)をモデルの損失関数として導出し，最適なパラメータ${\\alpha}_i \\, (i=1 \\cdots n)$ を求める．\n",
    "\n",
    "$$\n",
    "\\begin{align}\n",
    "    residual(y^{(i)}, \\hat{y}^{(i)}) &= y^{(i)} - \\hat{y}^{(i)} \\\\\n",
    "    &= y^{(i)} - \\sum_{j=1}^{n} \\alpha_j k(x^{(i)}, x^{(j)}) \\\\\n",
    " \\end{align}\n",
    "$$\n",
    "\n",
    "$$\n",
    "\\begin{align}\n",
    "    L(\\alpha) &= \\frac{1}{n} \\sum_{i=1}^{n} {residual(y^{(i)}, \\hat{y}^{(i)}) }^{2} \\\\\n",
    "    &= \\frac{1}{n} \\sum_{i=1}^{n} {\\left( y^{(i)} - \\sum_{j=1}^{n} \\alpha_j k(x^{(i)}, x^{(j)}) \\right)}^{2} \\\\\n",
    "    &= {({\\bf y} - {\\bf K} {\\bf \\alpha})}^{\\mathrm{T}} ({\\bf y} - {\\bf K} {\\bf \\alpha}) \n",
    "\\end{align}\n",
    "$$\n",
    "\n",
    "<br>\n",
    "\n",
    "$$\n",
<<<<<<< HEAD
    "    where, \\ \n",
=======
    "    where,    \n",
>>>>>>> 8386568fe3bc67bc36e29915773546a56d04f39c
    "    {\\bf K} =\n",
    "     \\begin{pmatrix}\n",
    "        k(x^{(1)}, x^{(1)})  & \\cdots & k(x^{(1)}, x^{(n)}) \\\\\n",
    "        \\vdots & \\ddots & \\vdots \\\\\n",
    "        k(x^{(n)}, x^{(1)})  & \\cdots & k(x^{(n)}, x^{(n)})  \n",
<<<<<<< HEAD
    "    \\end{pmatrix} \\,\\,  (Gram\\,Matrix)\n",
=======
    "    \\end{pmatrix}     (Gram~Matrix)\n",
>>>>>>> 8386568fe3bc67bc36e29915773546a56d04f39c
    "$$\n",
    "\n",
    "<br>\n",
    "\n",
    "パラメータ${\\alpha}_i \\, (i=1 \\cdots n)$ の探索には，ナイーブな勾配降下法を使う．係数 $\\eta$ は学習率.\n",
    "\n",
    "\n",
    "$$\n",
    "    \\frac{\\partial L(\\alpha)}{\\partial {\\bf \\alpha}} = -2 \\cdot {\\bf K}^{\\mathrm{T}} ({\\bf y} - {\\bf K} {\\bf \\alpha}), \\,\\,\\,\\,\\,\n",
    "    \\alpha_{new} = \\alpha_{old} + \\eta \\cdot \\frac{\\partial L(\\alpha_{old})}{\\partial {\\bf \\alpha}}\n",
    "$$"
   ]
  },
  {
   "cell_type": "code",
   "execution_count": 1,
   "metadata": {},
   "outputs": [
    {
     "name": "stderr",
     "output_type": "stream",
     "text": [
      "/usr/local/lib/python3.7/site-packages/matplotlib/__init__.py:1003: UserWarning: Duplicate key in file \"/Users/uchiumi/.matplotlib/matplotlibrc\", line #2\n",
      "  (fname, cnt))\n"
     ]
    }
   ],
   "source": [
    "import numpy as np\n",
    "import matplotlib.pyplot as plt\n",
    "%matplotlib inline"
   ]
  },
  {
   "cell_type": "markdown",
   "metadata": {},
   "source": [
    "## Kernel Function"
   ]
  },
  {
   "cell_type": "code",
   "execution_count": 2,
   "metadata": {},
   "outputs": [],
   "source": [
    "class RBFkernel():\n",
    "    \n",
    "    def __init__(self, sigma=0.5):\n",
    "        self.sigma = sigma\n",
    "        \n",
    "    def __call__(self, x, y):\n",
    "        numerator = -1 * np.sum((x - y)**2)\n",
    "        denominator = 2 * (self.sigma**2)\n",
    "        return np.exp(numerator / denominator)\n",
    "            \n",
    "    def get_params(self):\n",
    "        return self.sigma\n",
    "    \n",
    "    def set_params(self, sigma):\n",
    "        self.sigma = sigma"
   ]
  },
  {
   "cell_type": "markdown",
   "metadata": {},
   "source": [
    "## Regression Model"
   ]
  },
  {
   "cell_type": "code",
   "execution_count": 3,
   "metadata": {},
   "outputs": [],
   "source": [
    "class KernelRegression():\n",
    "    \n",
    "    def __init__(self, kernel):\n",
    "        self.kernel = kernel\n",
    "        \n",
    "    def fit_kernel(self, X, y, lr=0.01, nb_epoch=1000, log_freq=50):\n",
    "        self.X = X\n",
    "        self.y = y\n",
    "        self.n = X.shape[0] # sample size\n",
    "        self.alpha = np.full(self.n, 1) # param alpha: initialize        \n",
    "        self.gram_matrix = np.zeros((self.n, self.n))\n",
    "            \n",
    "        # Gradient Descent Algorithm to optimize alpha\n",
    "        for epoch in range(nb_epoch):\n",
    "\n",
    "            # Gram Matrix\n",
    "            for i in range(self.n):\n",
    "                for j in range(self.n):\n",
    "                    self.gram_matrix[i][j] = self.kernel(self.X[i], self.X[j])\n",
    "            self.loss, self.loss_grad = self.mse(self.X, self.y, self.alpha, self.gram_matrix)\n",
    "            self.alpha = self.alpha - lr * self.loss_grad\n",
    "            \n",
    "            if epoch % log_freq == 0:\n",
    "                print(\"epoch: {} \\t MSE of sample data: {:.4f}\".format(epoch, self.loss))\n",
    "            \n",
    "    def mse(self, X, y, alpha, gram_matrix):   \n",
    "        loss = np.dot((y - np.dot(gram_matrix, alpha)), (y - np.dot(gram_matrix, alpha)))\n",
    "        loss_grad = -2 * np.dot(gram_matrix.T, (y - np.dot(gram_matrix, alpha)))        \n",
    "        return loss, loss_grad\n",
    "                               \n",
    "    def predict(self, X_new):\n",
    "        n_new = X_new.shape[0]\n",
    "        y_new = np.zeros(n_new)\n",
    "        for i in range(n_new):\n",
    "            for j in range(self.n):\n",
    "                y_new[i] += self.alpha[j] * self.kernel(X_new[i], self.X[j])\n",
    "        return y_new        "
   ]
  },
  {
   "cell_type": "markdown",
   "metadata": {},
   "source": [
    "# Experiment"
   ]
  },
  {
   "cell_type": "code",
   "execution_count": 4,
   "metadata": {},
   "outputs": [],
   "source": [
    "def actual_function(x):\n",
    "    return 1.7 * np.sin(2 * x) + np.cos(1.5 * x) + 0.5 * np.cos(0.5 * x) + 0.5 * x  + 0.1"
   ]
  },
  {
   "cell_type": "code",
   "execution_count": 5,
   "metadata": {},
   "outputs": [],
   "source": [
    "sample_size = 100 # the number of data sample\n",
    "var_noise = 0.7 # variance of the gaussian noise for samples"
   ]
  },
  {
   "cell_type": "code",
   "execution_count": 6,
   "metadata": {},
   "outputs": [],
   "source": [
    "# make data sample\n",
    "x_sample = np.random.rand(sample_size) * 10 - 5\n",
    "y_sample = actual_function(x_sample) + np.random.normal(0, var_noise, sample_size)\n",
    "\n",
    "# variables for plot (actual function)\n",
    "x_plot = np.linspace(-5, 5, 100)\n",
    "y_plot = actual_function(x_plot)"
   ]
  },
  {
   "cell_type": "code",
   "execution_count": 7,
   "metadata": {},
   "outputs": [
    {
     "data": {
      "image/png": "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\n",
      "text/plain": [
       "<Figure size 432x288 with 1 Axes>"
      ]
     },
     "metadata": {
      "needs_background": "light"
     },
     "output_type": "display_data"
    }
   ],
   "source": [
    "plt.plot(x_plot, y_plot, color=\"blue\", linestyle=\"dotted\", label=\"actual function\")\n",
    "plt.scatter(x_sample, y_sample, alpha=0.4, color=\"blue\", label=\"data sample\")\n",
    "plt.title(\"Actual function & Data sample (N={})\".format(sample_size))\n",
    "plt.legend(loc=\"upper left\")\n",
    "plt.xlabel(\"x\")\n",
    "plt.ylabel(\"y\")\n",
    "plt.show()"
   ]
  },
  {
   "cell_type": "markdown",
   "metadata": {},
   "source": [
    "#### Kernel regression"
   ]
  },
  {
   "cell_type": "code",
   "execution_count": 8,
   "metadata": {},
   "outputs": [],
   "source": [
    "# set kernel\n",
    "sigma=0.2\n",
    "kernel = RBFkernel(sigma=sigma)\n",
    "\n",
    "# generate model\n",
    "model = KernelRegression(kernel)"
   ]
  },
  {
   "cell_type": "code",
   "execution_count": 9,
   "metadata": {},
   "outputs": [
    {
     "name": "stdout",
     "output_type": "stream",
     "text": [
      "epoch: 0 \t MSE of sample data: 3720.7331\n",
      "epoch: 100 \t MSE of sample data: 34.8666\n",
      "epoch: 200 \t MSE of sample data: 34.2399\n",
      "epoch: 300 \t MSE of sample data: 33.9027\n",
      "epoch: 400 \t MSE of sample data: 33.6385\n",
      "epoch: 500 \t MSE of sample data: 33.4086\n",
      "epoch: 600 \t MSE of sample data: 33.2024\n",
      "epoch: 700 \t MSE of sample data: 33.0156\n",
      "epoch: 800 \t MSE of sample data: 32.8456\n",
      "epoch: 900 \t MSE of sample data: 32.6905\n"
     ]
    }
   ],
   "source": [
    "# fit data sample for the model\n",
    "model.fit_kernel(x_sample, y_sample, lr=0.01, nb_epoch=1000, log_freq=100)"
   ]
  },
  {
   "cell_type": "code",
   "execution_count": 10,
   "metadata": {},
   "outputs": [
    {
     "data": {
      "text/plain": [
       "array([[1.00000000e+00, 3.53731940e-50, 1.00991515e-01, ...,\n",
       "        1.29544241e-93, 6.82764109e-46, 4.61572238e-19],\n",
       "       [3.53731940e-50, 1.00000000e+00, 3.86475631e-37, ...,\n",
       "        1.62387649e-07, 7.99639073e-01, 2.73370488e-08],\n",
       "       [1.00991515e-01, 3.86475631e-37, 1.00000000e+00, ...,\n",
       "        2.24389477e-75, 1.78163410e-33, 1.63761595e-11],\n",
       "       ...,\n",
       "       [1.29544241e-93, 1.62387649e-07, 2.24389477e-75, ...,\n",
       "        1.00000000e+00, 3.08678317e-09, 2.06768092e-29],\n",
       "       [6.82764109e-46, 7.99639073e-01, 1.78163410e-33, ...,\n",
       "        3.08678317e-09, 1.00000000e+00, 1.13143949e-06],\n",
       "       [4.61572238e-19, 2.73370488e-08, 1.63761595e-11, ...,\n",
       "        2.06768092e-29, 1.13143949e-06, 1.00000000e+00]])"
      ]
     },
     "execution_count": 10,
     "metadata": {},
     "output_type": "execute_result"
    }
   ],
   "source": [
    "# check Gram Matrix of the model\n",
    "model.gram_matrix"
   ]
  },
  {
   "cell_type": "code",
   "execution_count": 13,
   "metadata": {},
   "outputs": [
    {
     "data": {
      "text/plain": [
       "32.550226766103705"
      ]
     },
     "execution_count": 13,
     "metadata": {},
     "output_type": "execute_result"
    }
   ],
   "source": [
    "# model loss\n",
    "model.loss"
   ]
  },
  {
   "cell_type": "code",
   "execution_count": 11,
   "metadata": {},
   "outputs": [],
   "source": [
    "# array for plot (predicted function)\n",
    "x_new = np.linspace(-5, 5, 100)\n",
    "y_new = model.predict(x_new)"
   ]
  },
  {
   "cell_type": "code",
   "execution_count": 12,
   "metadata": {},
   "outputs": [
    {
     "data": {
      "image/png": "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\n",
      "text/plain": [
       "<Figure size 432x288 with 1 Axes>"
      ]
     },
     "metadata": {
      "needs_background": "light"
     },
     "output_type": "display_data"
    }
   ],
   "source": [
    "plt.plot(x_plot, y_plot, color=\"blue\", linestyle=\"dotted\", label=\"actual function\")\n",
    "plt.scatter(x_sample, y_sample, alpha=0.3, color=\"blue\", label=\"data sample\")\n",
    "plt.plot(x_new, y_new, color=\"red\", label=\"predicted function\")\n",
    "plt.title(\"Kernel Regression \\n RBF kernel (sigma={}), sample size ={}\".format(sigma, sample_size))\n",
    "plt.legend(loc=\"upper left\")\n",
    "plt.xlabel(\"x\")\n",
    "plt.ylabel(\"y\")\n",
    "plt.show()"
   ]
  }
 ],
 "metadata": {
  "kernelspec": {
   "display_name": "Python 3",
   "language": "python",
   "name": "python3"
  },
  "language_info": {
   "codemirror_mode": {
    "name": "ipython",
    "version": 3
   },
   "file_extension": ".py",
   "mimetype": "text/x-python",
   "name": "python",
   "nbconvert_exporter": "python",
   "pygments_lexer": "ipython3",
   "version": "3.7.3"
  }
 },
 "nbformat": 4,
 "nbformat_minor": 2
}
