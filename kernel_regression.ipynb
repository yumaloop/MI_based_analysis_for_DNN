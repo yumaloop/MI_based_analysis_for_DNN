{
 "cells": [
  {
   "cell_type": "markdown",
   "metadata": {},
   "source": [
    "# Kernel Regression (with Gradient Descent Method)\n",
    "---\n",
    "\n",
    "カーネル回帰+勾配降下法のコード．numpy only.\n"
   ]
  },
  {
   "cell_type": "code",
   "execution_count": 1,
   "metadata": {},
   "outputs": [
    {
     "name": "stderr",
     "output_type": "stream",
    }
   ],
   "source": [
    "import numpy as np\n",
    "import matplotlib.pyplot as plt\n",
    "%matplotlib inline"
   ]
  },
  {
   "cell_type": "markdown",
   "metadata": {},
   "source": [
    "## Kernel Function"
   ]
  },
  {
   "cell_type": "code",
   "execution_count": 2,
   "metadata": {},
   "outputs": [],
   "source": [
    "class RBFkernel():\n",
    "    \n",
    "    def __init__(self, sigma=0.5):\n",
    "        self.sigma = sigma\n",
    "        \n",
    "    def __call__(self, x, y):\n",
    "        numerator = -1 * np.sum((x - y)**2)\n",
    "        denominator = 2 * (self.sigma**2)\n",
    "        return np.exp(numerator / denominator)\n",
    "            \n",
    "    def get_params(self):\n",
    "        return self.sigma\n",
    "    \n",
    "    def set_params(self, sigma):\n",
    "        self.sigma = sigma"
   ]
  },
  {
   "cell_type": "markdown",
   "metadata": {},
   "source": [
    "## Regression Model"
   ]
  },
  {
   "cell_type": "code",
   "execution_count": 3,
   "metadata": {},
   "outputs": [],
   "source": [
    "class KernelRegression():\n",
    "    \n",
    "    def __init__(self, kernel):\n",
    "        self.kernel = kernel\n",
    "        \n",
    "    def fit_kernel(self, X, y, lr=0.01, nb_epoch=1000, log_freq=50):\n",
    "        self.X = X\n",
    "        self.y = y\n",
    "        self.n = X.shape[0] # sample size\n",
    "        self.alpha = np.full(self.n, 1) # param alpha: initialize        \n",
    "        self.gram_matrix = np.zeros((self.n, self.n))\n",
    "            \n",
    "        # Gradient Descent Algorithm to optimize alpha\n",
    "        for epoch in range(nb_epoch):\n",
    "\n",
    "            # Gram Matrix\n",
    "            for i in range(self.n):\n",
    "                for j in range(self.n):\n",
    "                    self.gram_matrix[i][j] = self.kernel(self.X[i], self.X[j])\n",
    "            self.loss, self.loss_grad = self.mse(self.X, self.y, self.alpha, self.gram_matrix)\n",
    "            self.alpha = self.alpha - lr * self.loss_grad\n",
    "            \n",
    "            if epoch % log_freq == 0:\n",
    "                print(\"epoch: {} \\t MSE of sample data: {:.4f}\".format(epoch, self.loss))\n",
    "            \n",
    "    def mse(self, X, y, alpha, gram_matrix):   \n",
    "        loss = np.dot((y - np.dot(gram_matrix, alpha)), (y - np.dot(gram_matrix, alpha)))\n",
    "        loss_grad = -2 * np.dot(gram_matrix.T, (y - np.dot(gram_matrix, alpha)))        \n",
    "        return loss, loss_grad\n",
    "                               \n",
    "    def predict(self, X_new):\n",
    "        n_new = X_new.shape[0]\n",
    "        y_new = np.zeros(n_new)\n",
    "        for i in range(n_new):\n",
    "            for j in range(self.n):\n",
    "                y_new[i] += self.alpha[j] * self.kernel(X_new[i], self.X[j])\n",
    "        return y_new        "
   ]
  },
  {
   "cell_type": "markdown",
   "metadata": {},
   "source": [
    "# Experiment"
   ]
  },
  {
   "cell_type": "code",
   "execution_count": 4,
   "metadata": {},
   "outputs": [],
   "source": [
    "def actual_function(x):\n",
    "    return 1.7 * np.sin(2 * x) + np.cos(1.5 * x) + 0.5 * np.cos(0.5 * x) + 0.5 * x  + 0.1"
   ]
  },
  {
   "cell_type": "code",
   "execution_count": 5,
   "metadata": {},
   "outputs": [],
   "source": [
    "sample_size = 100 # the number of data sample\n",
    "var_noise = 0.7 # variance of the gaussian noise for samples"
   ]
  },
  {
   "cell_type": "code",
   "execution_count": 6,
   "metadata": {},
   "outputs": [],
   "source": [
    "# make data sample\n",
    "x_sample = np.random.rand(sample_size) * 10 - 5\n",
    "y_sample = actual_function(x_sample) + np.random.normal(0, var_noise, sample_size)\n",
    "\n",
    "# variables for plot (actual function)\n",
    "x_plot = np.linspace(-5, 5, 100)\n",
    "y_plot = actual_function(x_plot)"
   ]
  },
  {
   "cell_type": "code",
   "execution_count": 7,
   "metadata": {},
   "outputs": [
    {
     "data": {
      "text/plain": [
       "<Figure size 432x288 with 1 Axes>"
      ]
     },
     "metadata": {
      "needs_background": "light"
     },
     "output_type": "display_data"
    }
   ],
   "source": [
    "plt.plot(x_plot, y_plot, color=\"blue\", linestyle=\"dotted\", label=\"actual function\")\n",
    "plt.scatter(x_sample, y_sample, alpha=0.4, color=\"blue\", label=\"data sample\")\n",
    "plt.title(\"Actual function & Data sample (N={})\".format(sample_size))\n",
    "plt.legend(loc=\"upper left\")\n",
    "plt.xlabel(\"x\")\n",
    "plt.ylabel(\"y\")\n",
    "plt.show()"
   ]
  },
  {
   "cell_type": "markdown",
   "metadata": {},
   "source": [
    "#### Kernel regression"
   ]
  },
  {
   "cell_type": "code",
   "execution_count": 8,
   "metadata": {},
   "outputs": [],
   "source": [
    "# set kernel\n",
    "sigma=0.2\n",
    "kernel = RBFkernel(sigma=sigma)\n",
    "\n",
    "# generate model\n",
    "model = KernelRegression(kernel)"
   ]
  },
  {
   "cell_type": "code",
   "execution_count": 9,
   "metadata": {},
   "outputs": [
    {
     "name": "stdout",
     "output_type": "stream",
     "text": [
      "epoch: 0 \t MSE of sample data: 3720.7331\n",
      "epoch: 100 \t MSE of sample data: 34.8666\n",
      "epoch: 200 \t MSE of sample data: 34.2399\n",
      "epoch: 300 \t MSE of sample data: 33.9027\n",
      "epoch: 400 \t MSE of sample data: 33.6385\n",
      "epoch: 500 \t MSE of sample data: 33.4086\n",
      "epoch: 600 \t MSE of sample data: 33.2024\n",
      "epoch: 700 \t MSE of sample data: 33.0156\n",
      "epoch: 800 \t MSE of sample data: 32.8456\n",
      "epoch: 900 \t MSE of sample data: 32.6905\n"
     ]
    }
   ],
   "source": [
    "# fit data sample for the model\n",
    "model.fit_kernel(x_sample, y_sample, lr=0.01, nb_epoch=1000, log_freq=100)"
   ]
  },
  {
   "cell_type": "code",
   "execution_count": 10,
   "metadata": {},
   "outputs": [
    {
     "data": {
      "text/plain": [
       "array([[1.00000000e+00, 3.53731940e-50, 1.00991515e-01, ...,\n",
       "        1.29544241e-93, 6.82764109e-46, 4.61572238e-19],\n",
       "       [3.53731940e-50, 1.00000000e+00, 3.86475631e-37, ...,\n",
       "        1.62387649e-07, 7.99639073e-01, 2.73370488e-08],\n",
       "       [1.00991515e-01, 3.86475631e-37, 1.00000000e+00, ...,\n",
       "        2.24389477e-75, 1.78163410e-33, 1.63761595e-11],\n",
       "       ...,\n",
       "       [1.29544241e-93, 1.62387649e-07, 2.24389477e-75, ...,\n",
       "        1.00000000e+00, 3.08678317e-09, 2.06768092e-29],\n",
       "       [6.82764109e-46, 7.99639073e-01, 1.78163410e-33, ...,\n",
       "        3.08678317e-09, 1.00000000e+00, 1.13143949e-06],\n",
       "       [4.61572238e-19, 2.73370488e-08, 1.63761595e-11, ...,\n",
       "        2.06768092e-29, 1.13143949e-06, 1.00000000e+00]])"
      ]
     },
     "execution_count": 10,
     "metadata": {},
     "output_type": "execute_result"
    }
   ],
   "source": [
    "# check Gram Matrix of the model\n",
    "model.gram_matrix"
   ]
  },
  {
   "cell_type": "code",
   "execution_count": 13,
   "metadata": {},
   "outputs": [
    {
     "data": {
      "text/plain": [
       "32.550226766103705"
      ]
     },
     "execution_count": 13,
     "metadata": {},
     "output_type": "execute_result"
    }
   ],
   "source": [
    "# model loss\n",
    "model.loss"
   ]
  },
  {
   "cell_type": "code",
   "execution_count": 11,
   "metadata": {},
   "outputs": [],
   "source": [
    "# array for plot (predicted function)\n",
    "x_new = np.linspace(-5, 5, 100)\n",
    "y_new = model.predict(x_new)"
   ]
  },
  {
   "cell_type": "code",
   "execution_count": 12,
   "metadata": {},
   "outputs": [
    {
     "data": {
      "text/plain": [
       "<Figure size 432x288 with 1 Axes>"
      ]
     },
     "metadata": {
      "needs_background": "light"
     },
     "output_type": "display_data"
    }
   ],
   "source": [
    "plt.plot(x_plot, y_plot, color=\"blue\", linestyle=\"dotted\", label=\"actual function\")\n",
    "plt.scatter(x_sample, y_sample, alpha=0.3, color=\"blue\", label=\"data sample\")\n",
    "plt.plot(x_new, y_new, color=\"red\", label=\"predicted function\")\n",
    "plt.title(\"Kernel Regression \\n RBF kernel (sigma={}), sample size ={}\".format(sigma, sample_size))\n",
    "plt.legend(loc=\"upper left\")\n",
    "plt.xlabel(\"x\")\n",
    "plt.ylabel(\"y\")\n",
    "plt.show()"
   ]
  }
 ],
 "metadata": {
  "kernelspec": {
   "display_name": "Python 3",
   "language": "python",
   "name": "python3"
  },
  "language_info": {
   "codemirror_mode": {
    "name": "ipython",
    "version": 3
   },
   "file_extension": ".py",
   "mimetype": "text/x-python",
   "name": "python",
   "nbconvert_exporter": "python",
   "pygments_lexer": "ipython3",
   "version": "3.7.3"
  }
 },
 "nbformat": 4,
 "nbformat_minor": 2
}
