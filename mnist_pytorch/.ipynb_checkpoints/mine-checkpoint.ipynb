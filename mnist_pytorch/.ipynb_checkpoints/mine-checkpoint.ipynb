{
 "cells": [
  {
   "cell_type": "markdown",
   "metadata": {},
   "source": [
    "# MINE: Mutual Information Neural Estimater"
   ]
  },
  {
   "cell_type": "markdown",
   "metadata": {},
   "source": [
    "MINE paper: https://arxiv.org/pdf/1801.04062.pdf"
   ]
  },
  {
   "cell_type": "code",
   "execution_count": null,
   "metadata": {},
   "outputs": [],
   "source": [
    "import os \n",
    "os.environ[\"CUDA_VISIBLE_DEVICES\"]=\"0\"\n",
    "\n",
    "import sys\n",
    "import numpy as np\n",
    "\n",
    "import torch\n",
    "import torchvision\n",
    "import torch.nn as nn\n",
    "import torch.nn.functional as F\n",
    "import torch.optim as optim\n",
    "import torch.autograd as autograd\n",
    "\n",
    "import pycuda.driver as cuda\n",
    "\n",
    "import seaborn as sns\n",
    "import matplotlib.pyplot as plt\n",
    "%matplotlib inline\n",
    "\n",
    "from models import Network"
   ]
  },
  {
   "cell_type": "code",
   "execution_count": null,
   "metadata": {},
   "outputs": [],
   "source": [
    "use_cuda = torch.cuda.is_available()\n",
    "print(\"Setting Info\")\n",
    "print(\"=========\")\n",
    "print(\"- use_cuda: \", use_cuda)\n",
    "print(\"- Path: \", os.getcwd())\n",
    "print(\"- PyTorch\", torch.__version__)\n",
    "print(\"- Python: \", sys.version)"
   ]
  },
  {
   "cell_type": "markdown",
   "metadata": {},
   "source": [
    "## Buildiing Network"
   ]
  },
  {
   "cell_type": "code",
   "execution_count": 3,
   "metadata": {},
   "outputs": [],
   "source": [
    "class Network(nn.Module):\n",
    "    def __init__(self):\n",
    "        super(Network, self).__init__()\n",
    "        self.conv1 = nn.Conv2d(1, 10, kernel_size=5)\n",
    "        self.conv2 = nn.Conv2d(10, 20, kernel_size=5)\n",
    "        self.conv2_drop = nn.Dropout2d()\n",
    "        self.fc1 = nn.Linear(320, 50)\n",
    "        self.fc2 = nn.Linear(50, 10)\n",
    "\n",
    "    def forward(self, x):\n",
    "        layer_values={}\n",
    "        layer_values[\"input_image\"] = x\n",
    "        x = F.relu(F.max_pool2d(self.conv1(x), 2))\n",
    "        layer_values[\"conv1_output\"] = x\n",
    "        x = F.relu(F.max_pool2d(self.conv2_drop(self.conv2(x)), 2))\n",
    "        layer_values[\"conv2_output\"] = x\n",
    "        x = x.view(-1, 320)\n",
    "        x = F.relu(self.fc1(x))\n",
    "        layer_values[\"fc1_output\"] = x\n",
    "        x = F.dropout(x, training=self.training)\n",
    "        x = self.fc2(x)\n",
    "        layer_values[\"fc2_output\"] = x\n",
    "        x = F.log_softmax(x)\n",
    "        layer_values[\"output_softmax\"] = x\n",
    "        \n",
    "        return layer_values"
   ]
  },
  {
   "cell_type": "markdown",
   "metadata": {},
   "source": [
    "## Load Model"
   ]
  },
  {
   "cell_type": "code",
   "execution_count": 4,
   "metadata": {},
   "outputs": [],
   "source": [
    "# model reload\n",
    "model = Network()\n",
    "\n",
    "PRETRAINED_MODEL_PATH = \"/home/uchiumi/JNNS2019/mnist_pytorch/train_log/model__2019-0422-1338.pth\"\n",
    "\n",
    "model.load_state_dict(torch.load(PRETRAINED_MODEL_PATH))"
   ]
  },
  {
   "cell_type": "markdown",
   "metadata": {},
   "source": [
    "## Data Loader"
   ]
  },
  {
   "cell_type": "markdown",
   "metadata": {},
   "source": [
    "cf.) https://www.aiworkbox.com/lessons/examine-mnist-dataset-from-pytorch-torchvision"
   ]
  },
  {
   "cell_type": "code",
   "execution_count": 5,
   "metadata": {},
   "outputs": [],
   "source": [
    "mnist_trainset = torchvision.datasets.MNIST(root='./data', train=True, download=True, transform=None)\n",
    "mnist_testset = torchvision.datasets.MNIST(root='./data', train=False, download=True, transform=None)"
   ]
  },
  {
   "cell_type": "code",
   "execution_count": 6,
   "metadata": {},
   "outputs": [],
   "source": [
    "X_train_0 = np.asarray(mnist_trainset[0][0]) # image\n",
    "y_train_0 = mnist_trainset[0][1] # label"
   ]
  },
  {
   "cell_type": "code",
   "execution_count": 7,
   "metadata": {},
   "outputs": [],
   "source": [
    "# train\n",
    "train_loader_for_MINE = torch.utils.data.DataLoader(\n",
    "  torchvision.datasets.MNIST('./data', train=True, download=True,\n",
    "                             transform=torchvision.transforms.Compose([\n",
    "                               torchvision.transforms.ToTensor(),\n",
    "                               torchvision.transforms.Normalize(\n",
    "                                 (0.1307,), (0.3081,))\n",
    "                             ])),\n",
    "  batch_size=1, shuffle=False)"
   ]
  },
  {
   "cell_type": "code",
   "execution_count": 8,
   "metadata": {},
   "outputs": [],
   "source": [
    "# test\n",
    "test_loader_for_MINE = torch.utils.data.DataLoader(\n",
    "  torchvision.datasets.MNIST('./data', train=False, download=True,\n",
    "                             transform=torchvision.transforms.Compose([\n",
    "                               torchvision.transforms.ToTensor(),\n",
    "                               torchvision.transforms.Normalize(\n",
    "                                 (0.1307,), (0.3081,))\n",
    "                             ])),\n",
    "  batch_size=1, shuffle=False)"
   ]
  },
  {
   "cell_type": "markdown",
   "metadata": {},
   "source": [
    "## Get layer values (the state of each nodes)"
   ]
  },
  {
   "cell_type": "code",
   "execution_count": 9,
   "metadata": {},
   "outputs": [],
   "source": [
    "def get_nodes_with_train_data(model):\n",
    "    model.eval()\n",
    "    list = []\n",
    "    with torch.no_grad():\n",
    "        for batch_idx, (data, target) in enumerate(train_loader_for_MINE):\n",
    "            result = model(data)\n",
    "            list.append(result)\n",
    "    return list"
   ]
  },
  {
   "cell_type": "code",
   "execution_count": 10,
   "metadata": {},
   "outputs": [],
   "source": [
    "def get_nodes_with_test_data(model):\n",
    "    model.eval()\n",
    "    list = []\n",
    "    with torch.no_grad():\n",
    "        for batch_idx, (data, target) in enumerate(test_loader_for_MINE):            \n",
    "            result = model(data)\n",
    "            list.append(result)\n",
    "    return list"
   ]
  },
  {
   "cell_type": "code",
   "execution_count": 11,
   "metadata": {},
   "outputs": [
    {
     "name": "stderr",
     "output_type": "stream",
     "text": [
      "/home/uchiumi/.local/lib/python3.5/site-packages/ipykernel_launcher.py:23: UserWarning: Implicit dimension choice for log_softmax has been deprecated. Change the call to include dim=X as an argument.\n"
     ]
    }
   ],
   "source": [
    "list = get_nodes_with_train_data(model)"
   ]
  },
  {
   "cell_type": "code",
   "execution_count": 12,
   "metadata": {},
   "outputs": [
    {
     "data": {
      "text/plain": [
       "60000"
      ]
     },
     "execution_count": 12,
     "metadata": {},
     "output_type": "execute_result"
    }
   ],
   "source": [
    "len(list)"
   ]
  },
  {
   "cell_type": "code",
   "execution_count": 13,
   "metadata": {},
   "outputs": [
    {
     "data": {
      "text/plain": [
       "dict_keys(['fc1_output', 'input_image', 'conv2_output', 'fc2_output', 'conv1_output', 'output_softmax'])"
      ]
     },
     "execution_count": 13,
     "metadata": {},
     "output_type": "execute_result"
    }
   ],
   "source": [
    "list[0].keys()"
   ]
  },
  {
   "cell_type": "code",
   "execution_count": 14,
   "metadata": {},
   "outputs": [
    {
     "name": "stdout",
     "output_type": "stream",
     "text": [
      "input_image torch.Size([1, 1, 28, 28])\n",
      "conv2_output torch.Size([1, 10, 12, 12])\n",
      "conv2_output torch.Size([1, 20, 4, 4])\n",
      "fc1_output torch.Size([1, 50])\n",
      "fc2_output torch.Size([1, 10])\n",
      "output_softmax torch.Size([1, 10])\n"
     ]
    }
   ],
   "source": [
    "print(\"input_image\", list[0][\"input_image\"].shape)\n",
    "print(\"conv2_output\",list[0][\"conv1_output\"].shape)\n",
    "print(\"conv2_output\",list[0][\"conv2_output\"].shape)\n",
    "print(\"fc1_output\",list[0][\"fc1_output\"].shape)\n",
    "print(\"fc2_output\",list[0][\"fc2_output\"].shape)\n",
    "print(\"output_softmax\",list[0][\"output_softmax\"].shape)"
   ]
  },
  {
   "cell_type": "code",
   "execution_count": 15,
   "metadata": {},
   "outputs": [],
   "source": [
    "tensordata_input_image = []\n",
    "tensordata_conv1_output = []\n",
    "tensordata_conv2_output = []\n",
    "tensordata_fc1_output = []\n",
    "tensordata_fc2_output = []\n",
    "tensordata_output_softmax = []\n",
    "\n",
    "for i in range(len(train_loader_for_MINE)):\n",
    "    tensordata_input_image.append(list[i][\"input_image\"].data.numpy().flatten())\n",
    "    tensordata_conv1_output.append(list[i][\"conv1_output\"].data.numpy().flatten())\n",
    "    tensordata_conv2_output.append(list[i][\"conv2_output\"].data.numpy().flatten())\n",
    "    tensordata_fc1_output.append(list[i][\"fc1_output\"].data.numpy().flatten())\n",
    "    tensordata_fc2_output.append(list[i][\"fc2_output\"].data.numpy().flatten())\n",
    "    tensordata_output_softmax.append(list[i][\"output_softmax\"].data.numpy().flatten())"
   ]
  },
  {
   "cell_type": "code",
   "execution_count": 16,
   "metadata": {},
   "outputs": [],
   "source": [
    "tensordata_input_image = np.array(tensordata_input_image)\n",
    "tensordata_conv1_output = np.array(tensordata_conv1_output)\n",
    "tensordata_conv2_output = np.array(tensordata_conv2_output)\n",
    "tensordata_fc1_output = np.array(tensordata_fc1_output)\n",
    "tensordata_fc2_output = np.array(tensordata_fc2_output)\n",
    "tensordata_output_softmax = np.array(tensordata_output_softmax)"
   ]
  },
  {
   "cell_type": "markdown",
   "metadata": {},
   "source": [
    "## MINE: Murual Information Neural Estimater"
   ]
  },
  {
   "cell_type": "code",
   "execution_count": 17,
   "metadata": {},
   "outputs": [
    {
     "data": {
      "text/plain": [
       "'\\nx = tensordata_conv1_output\\ny = tensordata_conv2_output\\nz = np.concatenate([x, y], axis=1)\\n'"
      ]
     },
     "execution_count": 17,
     "metadata": {},
     "output_type": "execute_result"
    }
   ],
   "source": [
    "\"\"\"\n",
    "x = tensordata_conv1_output\n",
    "y = tensordata_conv2_output\n",
    "z = np.concatenate([x, y], axis=1)\n",
    "\"\"\""
   ]
  },
  {
   "cell_type": "code",
   "execution_count": 18,
   "metadata": {},
   "outputs": [],
   "source": [
    "x = tensordata_conv1_output\n",
    "y = tensordata_fc2_output\n",
    "z = np.concatenate([x, y], axis=1)"
   ]
  },
  {
   "cell_type": "code",
   "execution_count": null,
   "metadata": {},
   "outputs": [],
   "source": [
    "print(x.shape)\n",
    "print(y.shape)\n",
    "print(z.shape)"
   ]
  },
  {
   "cell_type": "code",
   "execution_count": null,
   "metadata": {},
   "outputs": [],
   "source": [
    "def sample_batch(x, y, sample_size, batch_size=int(1e2), sample_mode='joint'):\n",
    "    if sample_mode == 'joint':\n",
    "        index_1 = np.random.choice(range(sample_size), size=batch_size, replace=False)\n",
    "        z = np.concatenate([x, y], axis=1)\n",
    "        batch = z[index_1]\n",
    "    elif sample_mode == 'marginal':\n",
    "        index_1 = np.random.choice(range(sample_size), size=batch_size, replace=False)\n",
    "        index_2 = np.random.choice(range(sample_size), size=batch_size, replace=False)\n",
    "        batch = np.concatenate([x[index_1], y[index_2]], axis=1)\n",
    "        \n",
    "    return batch"
   ]
  },
  {
   "cell_type": "code",
   "execution_count": null,
   "metadata": {},
   "outputs": [],
   "source": [
    "# joint & marginal sample\n",
    "joint_data = sample_batch(x, y, x.shape[0], batch_size=1000, sample_mode='joint')\n",
    "marginal_data = sample_batch(x, y, x.shape[0], batch_size=1000,sample_mode='marginal')\n",
    "\n",
    "print(joint_data.shape)\n",
    "print(marginal_data.shape)"
   ]
  },
  {
   "cell_type": "markdown",
   "metadata": {},
   "source": [
    "### StochasticNet"
   ]
  },
  {
   "cell_type": "code",
   "execution_count": null,
   "metadata": {},
   "outputs": [],
   "source": [
    "class StatisticsNet(nn.Module):\n",
    "    def __init__(self, xdim=1, ydim=1, H=512):\n",
    "        super().__init__()\n",
    "        self.xdim = xdim\n",
    "        self.ydim = ydim\n",
    "        self.fc1 = nn.Linear(self.xdim+self.ydim, H)\n",
    "        self.fc2 = nn.Linear(H, H)\n",
    "        self.fc3 = nn.Linear(H, 1)\n",
    "        \n",
    "    def forward(self, z_input):\n",
    "        h1 = F.elu(self.fc1(z_input))\n",
    "        # h1 = F.dropout(h1, p=0.2, training=True)\n",
    "        h2 = F.elu(self.fc2(h1))\n",
    "        # h2 = F.dropout(h2, p=0.2, training=True)\n",
    "        h3 = self.fc3(h2)\n",
    "        return h3"
   ]
  },
  {
   "cell_type": "code",
   "execution_count": null,
   "metadata": {},
   "outputs": [],
   "source": [
    "\"\"\"\n",
    "class StatisticsNet(nn.Module):\n",
    "    def __init__(self, xdim=1, ydim=1, H=10):\n",
    "        super().__init__()\n",
    "        self.xdim = xdim\n",
    "        self.ydim = ydim\n",
    "        self.fc1 = nn.Linear(self.xdim+self.ydim, H)\n",
    "        self.fc2 = nn.Linear(H, 1)\n",
    "        \n",
    "    def forward(self, z_input):\n",
    "        h1 = F.relu(self.fc1(z_input))\n",
    "        h1 = F.dropout(h1, p=0.2, training=True)\n",
    "        h2 = self.fc2(h1)\n",
    "        return h2\n",
    "\"\"\""
   ]
  },
  {
   "cell_type": "code",
   "execution_count": null,
   "metadata": {},
   "outputs": [],
   "source": [
    "def calc_MI_LowerBound(joint, marginal, snet):\n",
    "    t = snet(joint)\n",
    "    et = torch.exp(snet(marginal))\n",
    "    mi_lb = torch.mean(t) - torch.log(torch.mean(et)) # Lower bound for MI\n",
    "    return mi_lb, t, et"
   ]
  },
  {
   "cell_type": "code",
   "execution_count": null,
   "metadata": {},
   "outputs": [],
   "source": [
    "def update(joint_batch, marginal_batch, snet, optimizer, ma_et, ma_rate=0.01):\n",
    "    # batch is a tuple of (joint, marginal)\n",
    "    joint_batch = torch.autograd.Variable(torch.FloatTensor(joint_batch)).cuda()\n",
    "    marginal_batch = torch.autograd.Variable(torch.FloatTensor(marginal_batch)).cuda()\n",
    "    \n",
    "    mi_lb , t, et = calc_MI_LowerBound(joint_batch, marginal_batch, snet)\n",
    "    \n",
    "    # unbiasing use moving average\n",
    "    # ma_et = (1 - ma_rate) * ma_et + ma_rate * torch.mean(et)\n",
    "    # loss = -1 * (torch.mean(t) - (1 / ma_et.mean()).detach() * torch.mean(et)) # original loss function\n",
    "    # use biased estimator\n",
    "    loss = - mi_lb\n",
    "    \n",
    "    optimizer.zero_grad()\n",
    "    autograd.backward(loss)\n",
    "    optimizer.step()\n",
    "    \n",
    "    return mi_lb, ma_et, loss"
   ]
  },
  {
   "cell_type": "code",
   "execution_count": null,
   "metadata": {},
   "outputs": [],
   "source": [
    "# moving average\n",
    "def moving_average(array, window_size=100):\n",
    "    return [np.mean(array[i : i + window_size]) for i in range(0, len(array) - window_size)]"
   ]
  },
  {
   "cell_type": "code",
   "execution_count": null,
   "metadata": {},
   "outputs": [],
   "source": [
    "def train(x, y, snet, optimizer, batch_size=100, nb_epoch=int(5e+4), log_freq=int(5e+2)):\n",
    "\n",
    "    mi_lbs = [] # list of MI lower bounds\n",
    "    ma_mi_lbs = [] # list of moving ave. of mi_lbs\n",
    "    losses = [] # lsit of loss function\n",
    "    \n",
    "    # moving average of exp(T)\n",
    "    ma_et = 1.\n",
    "    \n",
    "    for i in range(nb_epoch):\n",
    "        if x.shape[0] != y.shape[0]: \n",
    "            print(\"shape error.\")\n",
    "            break\n",
    "            \n",
    "        sample_size = x.shape[0]\n",
    "        joint_batch = sample_batch(x, y, sample_size, batch_size=batch_size, sample_mode='joint')\n",
    "        marginal_batch = sample_batch(x, y, sample_size, batch_size=batch_size, sample_mode='marginal')\n",
    "        \n",
    "        mi_lb, ma_et, loss = update(joint_batch, marginal_batch, snet, optimizer, ma_et)\n",
    "        mi_lbs.append(mi_lb.detach().cpu().numpy())\n",
    "        ma_mi_lbs = moving_average(mi_lbs, window_size=50)\n",
    "        losses.append(loss)\n",
    "        \n",
    "        if (i + 1) % (log_freq) == 0:\n",
    "            print('Epoch: {:>6} \\t MI lower bounds: {:2.4f} \\t Loss of MINE: {:2.4f} \\t MI lower bounds (m.a.): {:2.4f}'.format(i+1, mi_lbs[-1], losses[-1], ma_mi_lbs[-1]))\n",
    "            \n",
    "    return mi_lower_bounds, losses"
   ]
  },
  {
   "cell_type": "code",
   "execution_count": null,
   "metadata": {},
   "outputs": [],
   "source": [
    "# moving average\n",
    "def moving_average(array, window_size=100):\n",
    "    return [np.mean(array[i : i + window_size]) for i in range(0, len(array) - window_size)]"
   ]
  },
  {
   "cell_type": "code",
   "execution_count": null,
   "metadata": {},
   "outputs": [],
   "source": [
    "# set data\n",
    "x = tensordata_conv1_output\n",
    "y = tensordata_fc2_output\n",
    "z = np.concatenate([x, y], axis=1)"
   ]
  },
  {
   "cell_type": "code",
   "execution_count": null,
   "metadata": {},
   "outputs": [],
   "source": [
    "snet = StatisticsNet(xdim=x.shape[1], ydim=y.shape[1], H=10).cuda()\n",
    "optimizer = optim.Adam(snet.parameters(), lr=1e-4, weight_decay=1e-5)\n",
    "\n",
    "# optimizer = optim.Adam(snet.parameters(), lr=1e-4)\n",
    "# optimizer = optim.SGD(snet.parameters(), lr=1e-3, momentum=0.9, weight_decay=1e-4)\n",
    "\n",
    "mi_lower_bounds, losses = train(x, y, snet, optimizer, batch_size=100, nb_epoch=50000, log_freq=100)"
   ]
  },
  {
   "cell_type": "code",
   "execution_count": null,
   "metadata": {},
   "outputs": [],
   "source": [
    "# H=10\n",
    "\n",
    "# MI lower boundsのプロット\n",
    "\n",
    "mi_lower_bound_ma = moving_average(mi_lower_bou　nds, window_size=100)\n",
    "\n",
    "plt.title(\"Moving Average of MI(X, Y) \\n  (window_size=200)\")\n",
    "plt.xlabel(\"epoch\")\n",
    "plt.ylabel(\"MA of MI(X, Y)\")\n",
    "plt.plot(range(len(mi_lower_bound_ma)), mi_lower_bound_ma)\n",
    "plt.show()\n",
    "\n",
    "print(\"Final value of MI: \", mi_lower_bound_ma[-1])"
   ]
  },
  {
   "cell_type": "code",
   "execution_count": null,
   "metadata": {},
   "outputs": [],
   "source": []
  },
  {
   "cell_type": "code",
   "execution_count": null,
   "metadata": {},
   "outputs": [],
   "source": []
  },
  {
   "cell_type": "code",
   "execution_count": null,
   "metadata": {},
   "outputs": [],
   "source": []
  },
  {
   "cell_type": "code",
   "execution_count": null,
   "metadata": {},
   "outputs": [],
   "source": []
  },
  {
   "cell_type": "code",
   "execution_count": 1,
   "metadata": {},
   "outputs": [
    {
     "ename": "NameError",
     "evalue": "name 'ma' is not defined",
     "output_type": "error",
     "traceback": [
      "\u001b[0;31m---------------------------------------------------------------------------\u001b[0m",
      "\u001b[0;31mNameError\u001b[0m                                 Traceback (most recent call last)",
      "\u001b[0;32m<ipython-input-1-edd09ddce19e>\u001b[0m in \u001b[0;36m<module>\u001b[0;34m\u001b[0m\n\u001b[1;32m      3\u001b[0m \u001b[0;31m# MI lower boundsのプロット\u001b[0m\u001b[0;34m\u001b[0m\u001b[0;34m\u001b[0m\u001b[0m\n\u001b[1;32m      4\u001b[0m \u001b[0;34m\u001b[0m\u001b[0m\n\u001b[0;32m----> 5\u001b[0;31m \u001b[0mmi_lower_bound_ma\u001b[0m \u001b[0;34m=\u001b[0m \u001b[0mma\u001b[0m\u001b[0;34m(\u001b[0m\u001b[0mmi_lower_bounds\u001b[0m\u001b[0;34m,\u001b[0m \u001b[0mwindow_size\u001b[0m\u001b[0;34m=\u001b[0m\u001b[0;36m1\u001b[0m\u001b[0;34m)\u001b[0m\u001b[0;34m\u001b[0m\u001b[0m\n\u001b[0m\u001b[1;32m      6\u001b[0m \u001b[0;34m\u001b[0m\u001b[0m\n\u001b[1;32m      7\u001b[0m \u001b[0mplt\u001b[0m\u001b[0;34m.\u001b[0m\u001b[0mtitle\u001b[0m\u001b[0;34m(\u001b[0m\u001b[0;34m\"Moving Average of MI(X, Y) \\n  (window_size=200)\"\u001b[0m\u001b[0;34m)\u001b[0m\u001b[0;34m\u001b[0m\u001b[0m\n",
      "\u001b[0;31mNameError\u001b[0m: name 'ma' is not defined"
     ]
    }
   ],
   "source": [
    "# H=15 \n",
    "\n",
    "# MI lower boundsのプロット\n",
    "\n",
    "mi_lower_bound_ma = ma(mi_lower_bounds, window_size=100)\n",
    "\n",
    "plt.title(\"Moving Average of MI(X, Y) \\n  (window_size=200)\")\n",
    "plt.xlabel(\"epoch\")\n",
    "plt.ylabel(\"MA of MI(X, Y)\")\n",
    "plt.plot(range(len(mi_lower_bound_ma)), mi_lower_bound_ma)\n",
    "plt.show()\n",
    "\n",
    "print(\"Final value of MI: \", mi_lower_bound_ma[-1])"
   ]
  },
  {
   "cell_type": "code",
   "execution_count": 31,
   "metadata": {},
   "outputs": [
    {
     "data": {
      "image/png": "[encoded data removed]",
      "text/plain": [
       "<Figure size 432x288 with 1 Axes>"
      ]
     },
     "metadata": {
      "needs_background": "light"
     },
     "output_type": "display_data"
    },
    {
     "name": "stdout",
     "output_type": "stream",
     "text": [
      "Final value of MI:  7.30222\n"
     ]
    }
   ],
   "source": [
    "# H=20 安定しない\n",
    "\n",
    "# MI lower boundsのプロット\n",
    "\n",
    "mi_lower_bound_ma = ma(mi_lower_bounds, window_size=100)\n",
    "\n",
    "plt.title(\"Moving Average of MI(X, Y) \\n  (window_size=200)\")\n",
    "plt.xlabel(\"epoch\")\n",
    "plt.ylabel(\"MA of MI(X, Y)\")\n",
    "plt.plot(range(len(mi_lower_bound_ma)), mi_lower_bound_ma)\n",
    "plt.show()\n",
    "\n",
    "print(\"Final value of MI: \", mi_lower_bound_ma[-1])"
   ]
  },
  {
   "cell_type": "code",
   "execution_count": 28,
   "metadata": {},
   "outputs": [
    {
     "data": {
      "image/png": "[encoded data removed]",
      "text/plain": [
       "<Figure size 432x288 with 1 Axes>"
      ]
     },
     "metadata": {
      "needs_background": "light"
     },
     "output_type": "display_data"
    },
    {
     "name": "stdout",
     "output_type": "stream",
     "text": [
      "Final value of MI:  2.477594\n"
     ]
    }
   ],
   "source": [
    "# H=5 安定する\n",
    "\n",
    "# MI lower boundsのプロット\n",
    "\n",
    "mi_lower_bound_ma = ma(mi_lower_bounds, window_size=100)\n",
    "\n",
    "plt.title(\"Moving Average of MI(X, Y) \\n  (window_size=200)\")\n",
    "plt.xlabel(\"epoch\")\n",
    "plt.ylabel(\"MA of MI(X, Y)\")\n",
    "plt.plot(range(len(mi_lower_bound_ma)), mi_lower_bound_ma)\n",
    "plt.show()\n",
    "\n",
    "print(\"Final value of MI: \", mi_lower_bound_ma[-1])"
   ]
  },
  {
   "cell_type": "code",
   "execution_count": 29,
   "metadata": {},
   "outputs": [
    {
     "data": {
      "image/png": "[encoded data removed]",
      "text/plain": [
       "<Figure size 432x288 with 1 Axes>"
      ]
     },
     "metadata": {
      "needs_background": "light"
     },
     "output_type": "display_data"
    },
    {
     "name": "stdout",
     "output_type": "stream",
     "text": [
      "Final value of MI:  2.477594\n"
     ]
    }
   ],
   "source": [
    "# H = 10 安定する\n",
    "\n",
    "# MI lower boundsのプロット\n",
    "\n",
    "mi_lower_bound_ma = ma(mi_lower_bounds, window_size=100)\n",
    "\n",
    "plt.title(\"Moving Average of MI(X, Y) \\n  (window_size=200)\")\n",
    "plt.xlabel(\"epoch\")\n",
    "plt.ylabel(\"MA of MI(X, Y)\")\n",
    "plt.plot(range(len(mi_lower_bound_ma)), mi_lower_bound_ma)\n",
    "plt.show()\n",
    "\n",
    "print(\"Final value of MI: \", mi_lower_bound_ma[-1])"
   ]
  },
  {
   "cell_type": "code",
   "execution_count": null,
   "metadata": {},
   "outputs": [],
   "source": []
  },
  {
   "cell_type": "code",
   "execution_count": null,
   "metadata": {},
   "outputs": [],
   "source": []
  },
  {
   "cell_type": "code",
   "execution_count": null,
   "metadata": {},
   "outputs": [],
   "source": []
  },
  {
   "cell_type": "code",
   "execution_count": null,
   "metadata": {},
   "outputs": [],
   "source": []
  },
  {
   "cell_type": "code",
   "execution_count": null,
   "metadata": {},
   "outputs": [],
   "source": []
  },
  {
   "cell_type": "code",
   "execution_count": null,
   "metadata": {},
   "outputs": [],
   "source": []
  },
  {
   "cell_type": "code",
   "execution_count": null,
   "metadata": {},
   "outputs": [],
   "source": []
  },
  {
   "cell_type": "code",
   "execution_count": null,
   "metadata": {},
   "outputs": [],
   "source": []
  },
  {
   "cell_type": "code",
   "execution_count": null,
   "metadata": {},
   "outputs": [],
   "source": []
  }
 ],
 "metadata": {
  "kernelspec": {
   "display_name": "Python 3",
   "language": "python",
   "name": "python3"
  },
  "language_info": {
   "codemirror_mode": {
    "name": "ipython",
    "version": 3
   },
   "file_extension": ".py",
   "mimetype": "text/x-python",
   "name": "python",
   "nbconvert_exporter": "python",
   "pygments_lexer": "ipython3",
   "version": "3.5.2"
  }
 },
 "nbformat": 4,
 "nbformat_minor": 2
}
