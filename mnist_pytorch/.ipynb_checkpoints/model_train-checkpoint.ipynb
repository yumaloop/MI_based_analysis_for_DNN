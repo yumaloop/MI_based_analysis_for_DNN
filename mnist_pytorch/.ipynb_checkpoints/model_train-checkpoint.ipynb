{
 "cells": [
  {
   "cell_type": "markdown",
   "metadata": {},
   "source": [
    "# Basic CNN Model for MNIST dataset\n",
    "\n",
    "---\n",
    "\n",
    "MINEによって，layer間の相互情報量(MI; Mututla Information)を測る．そのために，学習済みモデルを用意しておく．"
   ]
  },
  {
   "cell_type": "code",
   "execution_count": 1,
   "metadata": {},
   "outputs": [],
   "source": [
    "import os \n",
    "os.environ[\"CUDA_VISIBLE_DEVICES\"]=\"0\"\n",
    "\n",
    "import sys\n",
    "import numpy as np\n",
    "\n",
    "import torch\n",
    "import torchvision\n",
    "import torch.nn as nn\n",
    "import torch.nn.functional as F\n",
    "import torch.optim as optim\n",
    "import torch.autograd as autograd\n",
    "\n",
    "import pycuda.driver as cuda\n",
    "\n",
    "import seaborn as sns\n",
    "import matplotlib.pyplot as plt\n",
    "%matplotlib inline\n",
    "\n",
    "from datetime import datetime"
   ]
  },
  {
   "cell_type": "code",
   "execution_count": 2,
   "metadata": {},
   "outputs": [
    {
     "name": "stdout",
     "output_type": "stream",
     "text": [
      "Setting Info\n",
      "===========\n",
      "- use_cuda:  True\n",
      "- Path:  /home/uchiumi/JNNS2019/mnist_pytorch\n",
      "- PyTorch 1.0.1.post2\n",
      "- Python:  3.5.2 (default, Nov 12 2018, 13:43:14) \n",
      "[GCC 5.4.0 20160609]\n"
     ]
    }
   ],
   "source": [
    "use_cuda = torch.cuda.is_available()\n",
    "print(\"Setting Info\")\n",
    "print(\"===========\")\n",
    "print(\"- use_cuda: \", use_cuda)\n",
    "print(\"- Path: \", os.getcwd())\n",
    "print(\"- PyTorch\", torch.__version__)\n",
    "print(\"- Python: \", sys.version)"
   ]
  },
  {
   "cell_type": "markdown",
   "metadata": {},
   "source": [
    "## Meta settings"
   ]
  },
  {
   "cell_type": "code",
   "execution_count": 3,
   "metadata": {},
   "outputs": [],
   "source": [
    "n_epochs = 10\n",
    "batch_size_train = 128\n",
    "batch_size_test = 1000\n",
    "log_interval = 100\n",
    "\n",
    "# \n",
    "random_seed = 1\n",
    "torch.backends.cudnn.enabled = False"
   ]
  },
  {
   "cell_type": "markdown",
   "metadata": {},
   "source": [
    "## Data loader"
   ]
  },
  {
   "cell_type": "code",
   "execution_count": 4,
   "metadata": {},
   "outputs": [],
   "source": [
    "# train\n",
    "train_loader = torch.utils.data.DataLoader(\n",
    "  torchvision.datasets.MNIST('./data', \n",
    "                             train=True, \n",
    "                             download=True,\n",
    "                             transform=torchvision.transforms.Compose([\n",
    "                               torchvision.transforms.ToTensor(),\n",
    "                               torchvision.transforms.Normalize(\n",
    "                                 (0.1307,), (0.3081,))\n",
    "                             ])),\n",
    "  batch_size=batch_size_train, shuffle=True)"
   ]
  },
  {
   "cell_type": "code",
   "execution_count": 5,
   "metadata": {},
   "outputs": [],
   "source": [
    "# test\n",
    "test_loader = torch.utils.data.DataLoader(\n",
    "  torchvision.datasets.MNIST('./data', \n",
    "                             train=False, \n",
    "                             download=True,\n",
    "                             transform=torchvision.transforms.Compose([\n",
    "                               torchvision.transforms.ToTensor(),\n",
    "                               torchvision.transforms.Normalize(\n",
    "                                 (0.1307,), (0.3081,))\n",
    "                             ])),\n",
    "  batch_size=batch_size_test, shuffle=True)"
   ]
  },
  {
   "cell_type": "markdown",
   "metadata": {},
   "source": [
    "test"
   ]
  },
  {
   "cell_type": "code",
   "execution_count": 6,
   "metadata": {},
   "outputs": [],
   "source": [
    "examples = enumerate(test_loader)\n",
    "batch_idx, (example_data, example_targets) = next(examples)"
   ]
  },
  {
   "cell_type": "code",
   "execution_count": 7,
   "metadata": {},
   "outputs": [
    {
     "data": {
      "text/plain": [
       "torch.Size([1000, 1, 28, 28])"
      ]
     },
     "execution_count": 7,
     "metadata": {},
     "output_type": "execute_result"
    }
   ],
   "source": [
    "example_data.shape"
   ]
  },
  {
   "cell_type": "markdown",
   "metadata": {},
   "source": [
    "## Building the Network"
   ]
  },
  {
   "cell_type": "code",
   "execution_count": 8,
   "metadata": {},
   "outputs": [],
   "source": [
    "class Network(nn.Module):\n",
    "    def __init__(self):\n",
    "        super(Network, self).__init__()\n",
    "        self.conv1 = nn.Conv2d(1, 10, kernel_size=5)\n",
    "        self.conv2 = nn.Conv2d(10, 20, kernel_size=5)\n",
    "        self.conv2_drop = nn.Dropout2d()\n",
    "        self.fc1 = nn.Linear(320, 50)\n",
    "        self.fc2 = nn.Linear(50, 10)\n",
    "\n",
    "    def forward(self, x):\n",
    "        layer_values={}\n",
    "        layer_values[\"input_image\"]=x\n",
    "        x = F.relu(F.max_pool2d(self.conv1(x), 2))\n",
    "        layer_values[\"conv1_output\"]=x\n",
    "        x = F.relu(F.max_pool2d(self.conv2_drop(self.conv2(x)), 2))\n",
    "        layer_values[\"conv2_output\"]=x\n",
    "        x = x.view(-1, 320)\n",
    "        x = F.relu(self.fc1(x))\n",
    "        layer_values[\"fc1_output\"]=x\n",
    "        x = F.dropout(x, training=self.training)\n",
    "        x = self.fc2(x)\n",
    "        layer_values[\"fc2_output\"]=x\n",
    "        x = F.log_softmax(x)\n",
    "        layer_values[\"output_softmax\"]=x\n",
    "        \n",
    "        return layer_values"
   ]
  },
  {
   "cell_type": "markdown",
   "metadata": {},
   "source": [
    "## Training"
   ]
  },
  {
   "cell_type": "code",
   "execution_count": 9,
   "metadata": {},
   "outputs": [],
   "source": [
    "# model name\n",
    "date_string = datetime.now().strftime(\"%Y-%m%d-%H%M\")\n",
    "model_name = \"model__\" + date_string\n",
    "optim_name = \"optim__\" + date_string"
   ]
  },
  {
   "cell_type": "code",
   "execution_count": 10,
   "metadata": {},
   "outputs": [],
   "source": [
    "# variables for log plot\n",
    "train_losses = []\n",
    "train_counter = []\n",
    "test_losses = []\n",
    "test_counter = [i * len(train_loader.dataset) for i in range(1, n_epochs+1)]"
   ]
  },
  {
   "cell_type": "code",
   "execution_count": 11,
   "metadata": {},
   "outputs": [],
   "source": [
    "def model_fit(model, optimizer, epoch):\n",
    "    model.train()\n",
    "    for batch_idx, (data, target) in enumerate(train_loader):\n",
    "        optimizer.zero_grad()\n",
    "        output = model(data)[\"output_softmax\"]\n",
    "        train_loss = F.nll_loss(output, target)\n",
    "        train_loss.backward()\n",
    "        optimizer.step()\n",
    "        \n",
    "        if batch_idx % log_interval == 0 and batch_idx != 0:\n",
    "            print('epoch: {} [{}/{} ]\\t train loss: {:.6f}'.format(epoch, batch_idx * len(data), len(train_loader.dataset), train_loss.item()))\n",
    "            \n",
    "            train_losses.append(train_loss.item())\n",
    "            train_counter.append((batch_idx * batch_size_train) + ((epoch - 1)*len(train_loader.dataset)))\n",
    "            \n",
    "            model_path = os.path.join(os.getcwd(), \"train_log\", model_name + \".pth\")\n",
    "            optim_path = os.path.join(os.getcwd(), \"train_log\", optim_name + \".pth\")\n",
    "            torch.save(model.state_dict(), model_path)\n",
    "            torch.save(optimizer.state_dict(), optim_path)"
   ]
  },
  {
   "cell_type": "code",
   "execution_count": 12,
   "metadata": {},
   "outputs": [],
   "source": [
    "def model_validation(model):\n",
    "    model.eval()\n",
    "    test_loss = 0\n",
    "    nb_correct = 0\n",
    "    \n",
    "    with torch.no_grad():\n",
    "        for batch_idx, (data, target) in enumerate(test_loader):\n",
    "            output = model(data)[\"output_softmax\"]\n",
    "            test_loss += F.nll_loss(output, target, size_average=False).item()\n",
    "            test_batch_loss = F.nll_loss(output, target, size_average=False).item() / batch_size_test\n",
    "            # test_loss /= len(test_loader.dataset)\n",
    "            # test_losses.append(test_loss)\n",
    "            pred = output.data.max(1, keepdim=True)[1]\n",
    "            nb_correct += pred.eq(target.data.view_as(pred)).sum()\n",
    "            print('Test set: Avg. loss: {:.4f}, Accuracy: {}/{}'.format(test_batch_loss, nb_correct, batch_size_test * (batch_idx + 1)))\n",
    "    \n",
    "    test_loss /= len(test_loader.dataset)\n",
    "    test_losses.append(test_loss)"
   ]
  },
  {
   "cell_type": "markdown",
   "metadata": {},
   "source": [
    "## Run"
   ]
  },
  {
   "cell_type": "code",
   "execution_count": 13,
   "metadata": {},
   "outputs": [],
   "source": [
    "model = Network()\n",
    "optimizer = optim.SGD(model.parameters(), lr=0.01, momentum=0.5)"
   ]
  },
  {
   "cell_type": "code",
   "execution_count": 14,
   "metadata": {},
   "outputs": [
    {
     "name": "stderr",
     "output_type": "stream",
     "text": [
      "/home/uchiumi/.local/lib/python3.5/site-packages/ipykernel_launcher.py:23: UserWarning: Implicit dimension choice for log_softmax has been deprecated. Change the call to include dim=X as an argument.\n"
     ]
    },
    {
     "name": "stdout",
     "output_type": "stream",
     "text": [
      "epoch: 1 [12800/60000 ]\t train loss: 1.866613\n",
      "epoch: 1 [25600/60000 ]\t train loss: 1.386251\n",
      "epoch: 1 [38400/60000 ]\t train loss: 0.995102\n",
      "epoch: 1 [51200/60000 ]\t train loss: 0.669444\n"
     ]
    },
    {
     "name": "stderr",
     "output_type": "stream",
     "text": [
      "/home/uchiumi/.local/lib/python3.5/site-packages/torch/nn/_reduction.py:49: UserWarning: size_average and reduce args will be deprecated, please use reduction='sum' instead.\n",
      "  warnings.warn(warning.format(ret))\n"
     ]
    },
    {
     "name": "stdout",
     "output_type": "stream",
     "text": [
      "Test set: Avg. loss: 0.3301, Accuracy: 909/1000\n",
      "Test set: Avg. loss: 0.3248, Accuracy: 1820/2000\n",
      "Test set: Avg. loss: 0.2887, Accuracy: 2746/3000\n",
      "Test set: Avg. loss: 0.3275, Accuracy: 3659/4000\n",
      "Test set: Avg. loss: 0.3131, Accuracy: 4572/5000\n",
      "Test set: Avg. loss: 0.3426, Accuracy: 5490/6000\n",
      "Test set: Avg. loss: 0.3370, Accuracy: 6395/7000\n",
      "Test set: Avg. loss: 0.3334, Accuracy: 7303/8000\n",
      "Test set: Avg. loss: 0.2982, Accuracy: 8230/9000\n",
      "Test set: Avg. loss: 0.3154, Accuracy: 9148/10000\n",
      "epoch: 2 [12800/60000 ]\t train loss: 0.545189\n",
      "epoch: 2 [25600/60000 ]\t train loss: 0.419351\n",
      "epoch: 2 [38400/60000 ]\t train loss: 0.579557\n",
      "epoch: 2 [51200/60000 ]\t train loss: 0.395925\n",
      "Test set: Avg. loss: 0.1890, Accuracy: 943/1000\n",
      "Test set: Avg. loss: 0.1807, Accuracy: 1895/2000\n",
      "Test set: Avg. loss: 0.1737, Accuracy: 2845/3000\n",
      "Test set: Avg. loss: 0.1782, Accuracy: 3794/4000\n",
      "Test set: Avg. loss: 0.1587, Accuracy: 4757/5000\n",
      "Test set: Avg. loss: 0.1674, Accuracy: 5707/6000\n",
      "Test set: Avg. loss: 0.1608, Accuracy: 6659/7000\n",
      "Test set: Avg. loss: 0.1894, Accuracy: 7602/8000\n",
      "Test set: Avg. loss: 0.1936, Accuracy: 8544/9000\n",
      "Test set: Avg. loss: 0.1668, Accuracy: 9495/10000\n",
      "epoch: 3 [12800/60000 ]\t train loss: 0.352328\n",
      "epoch: 3 [25600/60000 ]\t train loss: 0.448118\n",
      "epoch: 3 [38400/60000 ]\t train loss: 0.380069\n",
      "epoch: 3 [51200/60000 ]\t train loss: 0.348587\n",
      "Test set: Avg. loss: 0.1287, Accuracy: 962/1000\n",
      "Test set: Avg. loss: 0.1087, Accuracy: 1930/2000\n",
      "Test set: Avg. loss: 0.1630, Accuracy: 2878/3000\n",
      "Test set: Avg. loss: 0.1214, Accuracy: 3847/4000\n",
      "Test set: Avg. loss: 0.1204, Accuracy: 4804/5000\n",
      "Test set: Avg. loss: 0.1495, Accuracy: 5760/6000\n",
      "Test set: Avg. loss: 0.1491, Accuracy: 6710/7000\n",
      "Test set: Avg. loss: 0.1350, Accuracy: 7664/8000\n",
      "Test set: Avg. loss: 0.1137, Accuracy: 8620/9000\n",
      "Test set: Avg. loss: 0.1262, Accuracy: 9581/10000\n",
      "epoch: 4 [12800/60000 ]\t train loss: 0.211590\n",
      "epoch: 4 [25600/60000 ]\t train loss: 0.233434\n",
      "epoch: 4 [38400/60000 ]\t train loss: 0.226727\n",
      "epoch: 4 [51200/60000 ]\t train loss: 0.262532\n",
      "Test set: Avg. loss: 0.1046, Accuracy: 970/1000\n",
      "Test set: Avg. loss: 0.1203, Accuracy: 1935/2000\n",
      "Test set: Avg. loss: 0.0997, Accuracy: 2904/3000\n",
      "Test set: Avg. loss: 0.1130, Accuracy: 3871/4000\n",
      "Test set: Avg. loss: 0.1226, Accuracy: 4837/5000\n",
      "Test set: Avg. loss: 0.1060, Accuracy: 5803/6000\n",
      "Test set: Avg. loss: 0.1319, Accuracy: 6768/7000\n",
      "Test set: Avg. loss: 0.1263, Accuracy: 7723/8000\n",
      "Test set: Avg. loss: 0.0902, Accuracy: 8695/9000\n",
      "Test set: Avg. loss: 0.0949, Accuracy: 9665/10000\n",
      "epoch: 5 [12800/60000 ]\t train loss: 0.238592\n",
      "epoch: 5 [25600/60000 ]\t train loss: 0.281322\n",
      "epoch: 5 [38400/60000 ]\t train loss: 0.199879\n",
      "epoch: 5 [51200/60000 ]\t train loss: 0.369200\n",
      "Test set: Avg. loss: 0.0957, Accuracy: 971/1000\n",
      "Test set: Avg. loss: 0.1039, Accuracy: 1941/2000\n",
      "Test set: Avg. loss: 0.0798, Accuracy: 2912/3000\n",
      "Test set: Avg. loss: 0.0943, Accuracy: 3884/4000\n",
      "Test set: Avg. loss: 0.0833, Accuracy: 4860/5000\n",
      "Test set: Avg. loss: 0.1167, Accuracy: 5824/6000\n",
      "Test set: Avg. loss: 0.1011, Accuracy: 6792/7000\n",
      "Test set: Avg. loss: 0.0842, Accuracy: 7767/8000\n",
      "Test set: Avg. loss: 0.0970, Accuracy: 8739/9000\n",
      "Test set: Avg. loss: 0.0924, Accuracy: 9708/10000\n",
      "epoch: 6 [12800/60000 ]\t train loss: 0.190476\n",
      "epoch: 6 [25600/60000 ]\t train loss: 0.143514\n",
      "epoch: 6 [38400/60000 ]\t train loss: 0.220356\n",
      "epoch: 6 [51200/60000 ]\t train loss: 0.311464\n",
      "Test set: Avg. loss: 0.0703, Accuracy: 976/1000\n",
      "Test set: Avg. loss: 0.0954, Accuracy: 1951/2000\n",
      "Test set: Avg. loss: 0.0821, Accuracy: 2920/3000\n",
      "Test set: Avg. loss: 0.0879, Accuracy: 3892/4000\n",
      "Test set: Avg. loss: 0.0750, Accuracy: 4871/5000\n",
      "Test set: Avg. loss: 0.1052, Accuracy: 5836/6000\n",
      "Test set: Avg. loss: 0.1260, Accuracy: 6804/7000\n",
      "Test set: Avg. loss: 0.0774, Accuracy: 7783/8000\n",
      "Test set: Avg. loss: 0.0834, Accuracy: 8761/9000\n",
      "Test set: Avg. loss: 0.0768, Accuracy: 9737/10000\n",
      "epoch: 7 [12800/60000 ]\t train loss: 0.208541\n",
      "epoch: 7 [25600/60000 ]\t train loss: 0.214050\n",
      "epoch: 7 [38400/60000 ]\t train loss: 0.418458\n",
      "epoch: 7 [51200/60000 ]\t train loss: 0.348512\n",
      "Test set: Avg. loss: 0.1004, Accuracy: 970/1000\n",
      "Test set: Avg. loss: 0.0622, Accuracy: 1943/2000\n",
      "Test set: Avg. loss: 0.0732, Accuracy: 2921/3000\n",
      "Test set: Avg. loss: 0.0731, Accuracy: 3898/4000\n",
      "Test set: Avg. loss: 0.0783, Accuracy: 4874/5000\n",
      "Test set: Avg. loss: 0.0746, Accuracy: 5853/6000\n",
      "Test set: Avg. loss: 0.0839, Accuracy: 6825/7000\n",
      "Test set: Avg. loss: 0.0753, Accuracy: 7801/8000\n",
      "Test set: Avg. loss: 0.0865, Accuracy: 8773/9000\n",
      "Test set: Avg. loss: 0.0880, Accuracy: 9749/10000\n",
      "epoch: 8 [12800/60000 ]\t train loss: 0.282478\n",
      "epoch: 8 [25600/60000 ]\t train loss: 0.153582\n",
      "epoch: 8 [38400/60000 ]\t train loss: 0.299920\n",
      "epoch: 8 [51200/60000 ]\t train loss: 0.146542\n",
      "Test set: Avg. loss: 0.0649, Accuracy: 982/1000\n",
      "Test set: Avg. loss: 0.0709, Accuracy: 1958/2000\n",
      "Test set: Avg. loss: 0.0709, Accuracy: 2934/3000\n",
      "Test set: Avg. loss: 0.0970, Accuracy: 3907/4000\n",
      "Test set: Avg. loss: 0.0668, Accuracy: 4886/5000\n",
      "Test set: Avg. loss: 0.0532, Accuracy: 5871/6000\n",
      "Test set: Avg. loss: 0.0784, Accuracy: 6844/7000\n",
      "Test set: Avg. loss: 0.0794, Accuracy: 7821/8000\n",
      "Test set: Avg. loss: 0.0792, Accuracy: 8794/9000\n",
      "Test set: Avg. loss: 0.0665, Accuracy: 9770/10000\n",
      "epoch: 9 [12800/60000 ]\t train loss: 0.218113\n",
      "epoch: 9 [25600/60000 ]\t train loss: 0.221848\n",
      "epoch: 9 [38400/60000 ]\t train loss: 0.162969\n",
      "epoch: 9 [51200/60000 ]\t train loss: 0.280281\n",
      "Test set: Avg. loss: 0.0915, Accuracy: 973/1000\n",
      "Test set: Avg. loss: 0.0609, Accuracy: 1954/2000\n",
      "Test set: Avg. loss: 0.1001, Accuracy: 2925/3000\n",
      "Test set: Avg. loss: 0.0692, Accuracy: 3900/4000\n",
      "Test set: Avg. loss: 0.0811, Accuracy: 4876/5000\n",
      "Test set: Avg. loss: 0.0623, Accuracy: 5855/6000\n",
      "Test set: Avg. loss: 0.0747, Accuracy: 6831/7000\n",
      "Test set: Avg. loss: 0.0783, Accuracy: 7807/8000\n",
      "Test set: Avg. loss: 0.0652, Accuracy: 8781/9000\n",
      "Test set: Avg. loss: 0.0731, Accuracy: 9762/10000\n",
      "epoch: 10 [12800/60000 ]\t train loss: 0.183246\n",
      "epoch: 10 [25600/60000 ]\t train loss: 0.177546\n",
      "epoch: 10 [38400/60000 ]\t train loss: 0.211946\n",
      "epoch: 10 [51200/60000 ]\t train loss: 0.297249\n",
      "Test set: Avg. loss: 0.0622, Accuracy: 980/1000\n",
      "Test set: Avg. loss: 0.0510, Accuracy: 1965/2000\n",
      "Test set: Avg. loss: 0.0695, Accuracy: 2941/3000\n",
      "Test set: Avg. loss: 0.0718, Accuracy: 3920/4000\n",
      "Test set: Avg. loss: 0.0831, Accuracy: 4891/5000\n",
      "Test set: Avg. loss: 0.0537, Accuracy: 5872/6000\n",
      "Test set: Avg. loss: 0.0675, Accuracy: 6853/7000\n",
      "Test set: Avg. loss: 0.0647, Accuracy: 7832/8000\n",
      "Test set: Avg. loss: 0.0650, Accuracy: 8811/9000\n",
      "Test set: Avg. loss: 0.0606, Accuracy: 9792/10000\n"
     ]
    }
   ],
   "source": [
    "for epoch in range(1, n_epochs + 1):\n",
    "    model_fit(model, optimizer, epoch)\n",
    "    model_validation(model)"
   ]
  },
  {
   "cell_type": "markdown",
   "metadata": {},
   "source": [
    "## Evaluating the Model's Performance"
   ]
  },
  {
   "cell_type": "code",
   "execution_count": 15,
   "metadata": {},
   "outputs": [
    {
     "data": {
      "image/png": "[encoded data removed]",
      "text/plain": [
       "<Figure size 432x288 with 1 Axes>"
      ]
     },
     "metadata": {
      "needs_background": "light"
     },
     "output_type": "display_data"
    }
   ],
   "source": [
    "fig = plt.figure()\n",
    "plt.plot(train_counter, train_losses, color='blue')\n",
    "plt.plot(test_counter, test_losses, color='red')\n",
    "plt.legend(['Train Loss', 'Test Loss'], loc='upper right')\n",
    "plt.xlabel('number of training examples seen')\n",
    "plt.ylabel('negative log likelihood loss')\n",
    "plt.show()"
   ]
  },
  {
   "cell_type": "code",
   "execution_count": null,
   "metadata": {},
   "outputs": [],
   "source": []
  }
 ],
 "metadata": {
  "kernelspec": {
   "display_name": "Python 3",
   "language": "python",
   "name": "python3"
  },
  "language_info": {
   "codemirror_mode": {
    "name": "ipython",
    "version": 3
   },
   "file_extension": ".py",
   "mimetype": "text/x-python",
   "name": "python",
   "nbconvert_exporter": "python",
   "pygments_lexer": "ipython3",
   "version": "3.5.2"
  }
 },
 "nbformat": 4,
 "nbformat_minor": 2
}
