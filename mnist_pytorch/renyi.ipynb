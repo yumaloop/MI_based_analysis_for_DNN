{
 "cells": [
  {
   "cell_type": "markdown",
   "metadata": {},
   "source": [
    "# Renyi's alpha entropy"
   ]
  },
  {
   "cell_type": "markdown",
   "metadata": {},
   "source": [
    "paper: https://arxiv.org/pdf/1804.06537.pdf"
   ]
  },
  {
   "cell_type": "code",
   "execution_count": 1,
   "metadata": {},
   "outputs": [],
   "source": [
    "import os \n",
    "os.environ[\"CUDA_VISIBLE_DEVICES\"]=\"0\"\n",
    "\n",
    "import sys\n",
    "import numpy as np\n",
    "import pycuda.driver as cuda\n",
    "import torch\n",
    "import torchvision\n",
    "import torch.nn as nn\n",
    "import torch.nn.functional as F\n",
    "import torch.optim as optim\n",
    "import torch.autograd as autograd\n",
    "from models import DNN, CNN\n",
    "\n",
    "import seaborn as sns\n",
    "import matplotlib.pyplot as plt\n",
    "%matplotlib inline"
   ]
  },
  {
   "cell_type": "code",
   "execution_count": 2,
   "metadata": {},
   "outputs": [
    {
     "name": "stdout",
     "output_type": "stream",
     "text": [
      "Setting Info\n",
      "=========\n",
      "- use_cuda:  True\n",
      "- Path:  /home/uchiumi/JNNS2019/mnist_pytorch\n",
      "- PyTorch 1.0.1.post2\n",
      "- Python:  3.5.2 (default, Nov 12 2018, 13:43:14) \n",
      "[GCC 5.4.0 20160609]\n"
     ]
    }
   ],
   "source": [
    "use_cuda = torch.cuda.is_available()\n",
    "print(\"Setting Info\")\n",
    "print(\"=========\")\n",
    "print(\"- use_cuda: \", use_cuda)\n",
    "print(\"- Path: \", os.getcwd())\n",
    "print(\"- PyTorch\", torch.__version__)\n",
    "print(\"- Python: \", sys.version)"
   ]
  },
  {
   "cell_type": "markdown",
   "metadata": {},
   "source": [
    "## Load Model"
   ]
  },
  {
   "cell_type": "code",
   "execution_count": 3,
   "metadata": {},
   "outputs": [],
   "source": [
    "# model reload\n",
    "model = DNN()\n",
    "PRETRAINED_MODEL_PATH = \"/home/uchiumi/JNNS2019/mnist_pytorch/train_log/dnn_mnist__2019-0425-1923.pth\"\n",
    "model.load_state_dict(torch.load(PRETRAINED_MODEL_PATH))"
   ]
  },
  {
   "cell_type": "markdown",
   "metadata": {},
   "source": [
    "## Data Loader"
   ]
  },
  {
   "cell_type": "markdown",
   "metadata": {},
   "source": [
    "cf.) https://www.aiworkbox.com/lessons/examine-mnist-dataset-from-pytorch-torchvision"
   ]
  },
  {
   "cell_type": "code",
   "execution_count": 4,
   "metadata": {},
   "outputs": [],
   "source": [
    "mnist_trainset = torchvision.datasets.MNIST(root='./data', train=True, download=True, transform=None)\n",
    "mnist_testset = torchvision.datasets.MNIST(root='./data', train=False, download=True, transform=None)"
   ]
  },
  {
   "cell_type": "code",
   "execution_count": 5,
   "metadata": {},
   "outputs": [],
   "source": [
    "X_train_0 = np.asarray(mnist_trainset[0][0]) # image\n",
    "y_train_0 = mnist_trainset[0][1] # label"
   ]
  },
  {
   "cell_type": "code",
   "execution_count": 6,
   "metadata": {},
   "outputs": [],
   "source": [
    "# train\n",
    "train_loader_for_MI = torch.utils.data.DataLoader(\n",
    "  torchvision.datasets.MNIST('./data', train=True, download=True,\n",
    "                             transform=torchvision.transforms.Compose([\n",
    "                               torchvision.transforms.ToTensor(),\n",
    "                               torchvision.transforms.Normalize(\n",
    "                                 (0.1307,), (0.3081,))\n",
    "                             ])),\n",
    "  batch_size=1, shuffle=False)"
   ]
  },
  {
   "cell_type": "code",
   "execution_count": 7,
   "metadata": {},
   "outputs": [],
   "source": [
    "# test\n",
    "test_loader_for_MI = torch.utils.data.DataLoader(\n",
    "  torchvision.datasets.MNIST('./data', train=False, download=True,\n",
    "                             transform=torchvision.transforms.Compose([\n",
    "                               torchvision.transforms.ToTensor(),\n",
    "                               torchvision.transforms.Normalize(\n",
    "                                 (0.1307,), (0.3081,))\n",
    "                             ])),\n",
    "  batch_size=1, shuffle=False)"
   ]
  },
  {
   "cell_type": "markdown",
   "metadata": {},
   "source": [
    "## Get layer values (the state of each nodes)"
   ]
  },
  {
   "cell_type": "code",
   "execution_count": 8,
   "metadata": {},
   "outputs": [],
   "source": [
    "def get_nodes_with_train_data(model):\n",
    "    model.eval()\n",
    "    list = []\n",
    "    with torch.no_grad():\n",
    "        for batch_idx, (data, target) in enumerate(train_loader_for_MI):\n",
    "            result = model(data)\n",
    "            list.append(result)\n",
    "    return list"
   ]
  },
  {
   "cell_type": "code",
   "execution_count": 9,
   "metadata": {},
   "outputs": [],
   "source": [
    "def get_nodes_with_test_data(model):\n",
    "    model.eval()\n",
    "    list = []\n",
    "    with torch.no_grad():\n",
    "        for batch_idx, (data, target) in enumerate(test_loader_for_MI):            \n",
    "            result = model(data)\n",
    "            list.append(result)\n",
    "    return list"
   ]
  },
  {
   "cell_type": "code",
   "execution_count": 10,
   "metadata": {},
   "outputs": [],
   "source": [
    "list = get_nodes_with_train_data(model)"
   ]
  },
  {
   "cell_type": "code",
   "execution_count": 11,
   "metadata": {},
   "outputs": [
    {
     "data": {
      "text/plain": [
       "60000"
      ]
     },
     "execution_count": 11,
     "metadata": {},
     "output_type": "execute_result"
    }
   ],
   "source": [
    "len(list)"
   ]
  },
  {
   "cell_type": "code",
   "execution_count": 12,
   "metadata": {},
   "outputs": [
    {
     "data": {
      "text/plain": [
       "dict_keys(['model_output', 'fc4_output', 'fc1_output', 'fc2_output', 'model_input', 'fc3_output'])"
      ]
     },
     "execution_count": 12,
     "metadata": {},
     "output_type": "execute_result"
    }
   ],
   "source": [
    "list[0].keys()"
   ]
  },
  {
   "cell_type": "code",
   "execution_count": 13,
   "metadata": {},
   "outputs": [
    {
     "name": "stdout",
     "output_type": "stream",
     "text": [
      "model_input torch.Size([1, 784])\n",
      "fc1_output torch.Size([1, 1024])\n",
      "fc2_output torch.Size([1, 512])\n",
      "fc3_output torch.Size([1, 256])\n",
      "fc4_output torch.Size([1, 128])\n",
      "model_output torch.Size([1, 10])\n"
     ]
    }
   ],
   "source": [
    "print(\"model_input\", list[0][\"model_input\"].shape)\n",
    "print(\"fc1_output\",list[0][\"fc1_output\"].shape)\n",
    "print(\"fc2_output\",list[0][\"fc2_output\"].shape)\n",
    "print(\"fc3_output\",list[0][\"fc3_output\"].shape)\n",
    "print(\"fc4_output\",list[0][\"fc4_output\"].shape)\n",
    "print(\"model_output\",list[0][\"model_output\"].shape)"
   ]
  },
  {
   "cell_type": "code",
   "execution_count": 14,
   "metadata": {},
   "outputs": [],
   "source": [
    "model_input = []\n",
    "fc1_output = []\n",
    "fc2_output = []\n",
    "fc3_output = []\n",
    "fc4_output = []\n",
    "model_output = []\n",
    "\n",
    "for i in range(len(train_loader_for_MI)):\n",
    "    model_input.append(list[i][\"model_input\"].data.numpy().flatten())\n",
    "    fc1_output.append(list[i][\"fc1_output\"].data.numpy().flatten())\n",
    "    fc2_output.append(list[i][\"fc2_output\"].data.numpy().flatten())\n",
    "    fc3_output.append(list[i][\"fc3_output\"].data.numpy().flatten())\n",
    "    fc4_output.append(list[i][\"fc4_output\"].data.numpy().flatten())\n",
    "    model_output.append(list[i][\"model_output\"].data.numpy().flatten())"
   ]
  },
  {
   "cell_type": "code",
   "execution_count": 15,
   "metadata": {},
   "outputs": [],
   "source": [
    "model_input = np.array(model_input)\n",
    "fc1_output = np.array(fc1_output)\n",
    "fc2_output = np.array(fc1_output)\n",
    "fc3_output = np.array(fc1_output)\n",
    "fc4_output = np.array(fc1_output)\n",
    "model_output = np.array(model_output)"
   ]
  },
  {
   "cell_type": "markdown",
   "metadata": {},
   "source": [
    "## Renyi's alpha entropy"
   ]
  },
  {
   "cell_type": "markdown",
   "metadata": {},
   "source": [
    "$$\n",
    "\\begin{align}\n",
    "    H_{\\alpha}(p) &:= \\frac{1}{1 - \\alpha} \\log_2 \\int_{\\chi} p^{\\alpha}(x) ~ dx \\\\\n",
    "    H_{\\alpha}(p) &:= \\frac{1}{1 - \\alpha} \\log_2 \\sum_{x \\in \\chi} p^{\\alpha}(x)\n",
    "\\end{align}\n",
    "$$"
   ]
  },
  {
   "cell_type": "markdown",
   "metadata": {},
   "source": [
    "$$\n",
    "    S_{\\alpha}(A) := \\frac{1}{1 - \\alpha} \\log_{2} {\\rm tr}(A^{\\alpha}) = \\frac{1}{1 - \\alpha} \\log_{2} \\left( \\sum_{i=1}^{n} { \\{ \\lambda_{i} (A) \\} }^{\\alpha} \\right) \\\\ \\\\\n",
    "    where, ~~~ A_{ij} = \\frac{1}{n} \\frac{K_{ij}}{\\sqrt{K_{ii} \\cdot K_{jj}}}, ~~~ K_{ij} := k(x^i, x^j)\n",
    "$$"
   ]
  },
  {
   "cell_type": "markdown",
   "metadata": {},
   "source": [
    "$$\n",
    "\\begin{align}\n",
    "    MI(X, Y) &:= H(X) + H(Y) - H(X, Y) \\\\\n",
    "    MI_{\\alpha}(A, B) &:= S_{\\alpha}(A) + S_{\\alpha}(B) - S_{\\alpha} \\left( \\frac{A \\circ B}{{\\rm tr}(A \\circ B)} \\right)\n",
    "\\end{align}\n",
    "$$\n",
    "\n",
    "$$\n",
    "    MI(X, Y) = \\lim_{\\alpha \\to 1} ~ MI_{\\alpha}(A, B) = \\lim_{\\alpha \\to 1} ~ S_{\\alpha}(A) + S_{\\alpha}(B) - S_{\\alpha} \\left( \\frac{A \\circ B}{{\\rm tr}(A \\circ B)} \\right) \\\\\n",
    "$$"
   ]
  },
  {
   "cell_type": "code",
   "execution_count": 16,
   "metadata": {},
   "outputs": [],
   "source": [
    "x = model_input\n",
    "y = fc3_output\n",
    "z = np.concatenate([x, y], axis=1)"
   ]
  },
  {
   "cell_type": "code",
   "execution_count": 17,
   "metadata": {},
   "outputs": [
    {
     "name": "stdout",
     "output_type": "stream",
     "text": [
      "(60000, 784)\n",
      "(60000, 1024)\n",
      "(60000, 1808)\n"
     ]
    }
   ],
   "source": [
    "print(x.shape)\n",
    "print(y.shape)\n",
    "print(z.shape)"
   ]
  },
  {
   "cell_type": "markdown",
   "metadata": {},
   "source": [
    "#### Kernel function"
   ]
  },
  {
   "cell_type": "code",
   "execution_count": 18,
   "metadata": {},
   "outputs": [],
   "source": [
    "class RBFkernel():\n",
    "    def __init__(self, sigma=0.5):\n",
    "        self.sigma = sigma\n",
    "        \n",
    "    def __call__(self, x, y):\n",
    "        numerator = -1 * np.sum((x - y)**2)\n",
    "        denominator = 2 * (self.sigma**2)\n",
    "        return np.exp(numerator / denominator)\n",
    "    \n",
    "    def get_params(self):\n",
    "        return self.sigma\n",
    "    \n",
    "    def set_params(self, sigma):\n",
    "        self.sigma = sigma"
   ]
  },
  {
   "cell_type": "markdown",
   "metadata": {},
   "source": [
    "#### alpha entropy"
   ]
  },
  {
   "cell_type": "code",
   "execution_count": 116,
   "metadata": {},
   "outputs": [],
   "source": [
    "class RenyiAlphaMurualInformation():\n",
    "    def __init__(self, xkernel, ykernel, n):\n",
    "        self.xkernel = xkernel # Xのためのカーネル関数\n",
    "        self.ykernel = ykernel # Yのためのカーネル関数\n",
    "        self.n = n\n",
    "    \n",
    "    def gram_matrix(self, x, y):\n",
    "        \n",
    "        # calculate gram matrix\n",
    "        xgram_matrix = np.zeros((self.n, self.n))\n",
    "        ygram_matrix = np.zeros((self.n, self.n))\n",
    "        for i in range(self.n):\n",
    "            for j in range(self.n):\n",
    "                xgram_matrix[i][j] = self.xkernel(x[i], x[j])\n",
    "                ygram_matrix[i][j] = self.ykernel(y[i], y[j])\n",
    "        return xgram_matrix, ygram_matrix\n",
    "    \n",
    "    def alpha_entropy(self, M, alpha):\n",
    "        if type(M) != np.ndarray or M.shape != (self.n, self.n):\n",
    "            raise Exception(\"input error\")\n",
    "        \n",
    "        # calculate eigen value of M\n",
    "        eigen_value, eigen_vector = np.linalg.eigh(M)\n",
    "        return (np.log2(np.sum(eigen_value ** alpha))) / (1 - alpha) \n",
    "        \n",
    "    def mi_alpha(self, x, y, alpha):\n",
    "        \n",
    "        # make gram matrix\n",
    "        xgram_matrix, ygram_matrix = self.gram_matrix(x, y)\n",
    "        \n",
    "        # calculate A, B (matrix)\n",
    "        A = np.zeros((self.n, self.n))\n",
    "        B = np.zeros((self.n, self.n))\n",
    "        for i in range(self.n):\n",
    "            for j in range(self.n):\n",
    "                A[i][j] = (xgram_matrix[i][j] / np.sqrt(xgram_matrix[i][i] * xgram_matrix[j][j])) / self.n\n",
    "                B[i][j] = (ygram_matrix[i][j] / np.sqrt(ygram_matrix[i][i] * ygram_matrix[j][j])) / self.n\n",
    "                \n",
    "        # print(\"Kx: \", xgram_matrix)\n",
    "        # print(\"Ky: \", ygram_matrix)\n",
    "        # print(\"A: \", A)\n",
    "        # print(\"B: \", B)\n",
    "        S_A = self.alpha_entropy(A, alpha)\n",
    "        S_B = self.alpha_entropy(B, alpha)\n",
    "        S_AB =  self.alpha_entropy(((A * B) / np.trace(A * B)), alpha)\n",
    "        print(\"S(A): \", S_A, \"\\t\", \"S(B): \", S_B, \"\\t\", \"S(AB)\", S_AB)\n",
    "        \n",
    "        mi_alpha = S_A + S_B - S_AB\n",
    "        return mi_alpha"
   ]
  },
  {
   "cell_type": "code",
   "execution_count": 117,
   "metadata": {},
   "outputs": [
    {
     "name": "stdout",
     "output_type": "stream",
     "text": [
      "x-kernel sigma:  0.9946203807747748\n",
      "y-kernel sigma:  0.9946203807747748\n"
     ]
    }
   ],
   "source": [
    "# sample\n",
    "\n",
    "alpha = 1.01\n",
    "\n",
    "x = fc2_output\n",
    "y = fc4_output\n",
    "\n",
    "n = 256\n",
    "x = x[np.random.choice(x.shape[0], n), :]\n",
    "y = y[np.random.choice(y.shape[0], n), :]\n",
    "\n",
    "h = 1\n",
    "xsigma = h * (n ** (-1 / (x.shape[1] + 4)) )\n",
    "ysigma = h * (n ** (-1 / (y.shape[1] + 4)) )\n",
    "\n",
    "xkernel = RBFkernel(sigma = xsigma)\n",
    "ykernel = RBFkernel(sigma = ysigma)\n",
    "\n",
    "print(\"x-kernel sigma: \", xsigma)\n",
    "print(\"y-kernel sigma: \", ysigma)"
   ]
  },
  {
   "cell_type": "code",
   "execution_count": 118,
   "metadata": {},
   "outputs": [
    {
     "name": "stdout",
     "output_type": "stream",
     "text": [
      "S(A):  7.999999999999453 \t S(B):  nan \t S(AB) 8.000000000000012\n",
      "nan\n"
     ]
    },
    {
     "name": "stderr",
     "output_type": "stream",
     "text": [
      "/home/uchiumi/.local/lib/python3.5/site-packages/ipykernel_launcher.py:24: RuntimeWarning: invalid value encountered in power\n"
     ]
    }
   ],
   "source": [
    "mi = RenyiAlphaMurualInformation(xkernel, ykernel, n).mi_alpha(x, y, alpha)\n",
    "print(mi)"
   ]
  },
  {
   "cell_type": "code",
   "execution_count": null,
   "metadata": {},
   "outputs": [],
   "source": []
  },
  {
   "cell_type": "code",
   "execution_count": null,
   "metadata": {},
   "outputs": [],
   "source": []
  },
  {
   "cell_type": "code",
   "execution_count": null,
   "metadata": {},
   "outputs": [],
   "source": []
  },
  {
   "cell_type": "code",
   "execution_count": null,
   "metadata": {},
   "outputs": [],
   "source": []
  },
  {
   "cell_type": "code",
   "execution_count": null,
   "metadata": {},
   "outputs": [],
   "source": []
  },
  {
   "cell_type": "code",
   "execution_count": null,
   "metadata": {},
   "outputs": [],
   "source": []
  },
  {
   "cell_type": "markdown",
   "metadata": {},
   "source": [
    "### experiment with toy data"
   ]
  },
  {
   "cell_type": "code",
   "execution_count": 31,
   "metadata": {},
   "outputs": [
    {
     "data": {
      "text/plain": [
       "(300, 2)"
      ]
     },
     "execution_count": 31,
     "metadata": {},
     "output_type": "execute_result"
    }
   ],
   "source": [
    "data = np.random.multivariate_normal( mean=[0,0],\n",
    "                                  cov=[[1,0.8],[0.8,1]],\n",
    "                                 size = 300)\n",
    "data.shape"
   ]
  },
  {
   "cell_type": "code",
   "execution_count": 50,
   "metadata": {},
   "outputs": [
    {
     "data": {
      "text/plain": [
       "<matplotlib.collections.PathCollection at 0x7f625ce506a0>"
      ]
     },
     "execution_count": 50,
     "metadata": {},
     "output_type": "execute_result"
    },
    {
     "data": {
      "image/png": "[encoded data removed]",
      "text/plain": [
       "<Figure size 432x288 with 1 Axes>"
      ]
     },
     "metadata": {
      "needs_background": "light"
     },
     "output_type": "display_data"
    }
   ],
   "source": [
    "import matplotlib.pyplot as plt\n",
    "%matplotlib inline\n",
    "\n",
    "x = data[:, 0]\n",
    "y = data[:, 1]\n",
    "\n",
    "plt.scatter(x, y, alpha=0.5)"
   ]
  },
  {
   "cell_type": "code",
   "execution_count": 52,
   "metadata": {},
   "outputs": [
    {
     "name": "stdout",
     "output_type": "stream",
     "text": [
      "x-kernel sigma:  1.5978858591903045\n",
      "y-kernel sigma:  1.5978858591903045\n"
     ]
    }
   ],
   "source": [
    "alpha = 1.01\n",
    "\n",
    "n = 300\n",
    "x = data[:, 0]\n",
    "y = data[:, 1]\n",
    "\n",
    "xdim = 1\n",
    "ydim = 1\n",
    "\n",
    "h = 5\n",
    "xsigma = h * (n ** (-1 / (xdim + 4)) )\n",
    "ysigma = h * (n ** (-1 / (ydim + 4)) )\n",
    "\n",
    "xkernel = RBFkernel(sigma = xsigma)\n",
    "ykernel = RBFkernel(sigma = ysigma)\n",
    "\n",
    "print(\"x-kernel sigma: \", xsigma)\n",
    "print(\"y-kernel sigma: \", ysigma)"
   ]
  },
  {
   "cell_type": "code",
   "execution_count": 55,
   "metadata": {},
   "outputs": [
    {
     "name": "stderr",
     "output_type": "stream",
     "text": [
      "/home/uchiumi/.local/lib/python3.5/site-packages/ipykernel_launcher.py:24: RuntimeWarning: invalid value encountered in power\n"
     ]
    },
    {
     "data": {
      "text/plain": [
       "nan"
      ]
     },
     "execution_count": 55,
     "metadata": {},
     "output_type": "execute_result"
    }
   ],
   "source": [
    "renyi_alpha_entropy = RenyiAlphaMurualInformation(xkernel, ykernel, n)\n",
    "mi = renyi_alpha_entropy.mi_alpha(x, y, alpha)\n",
    "mi"
   ]
  },
  {
   "cell_type": "code",
   "execution_count": null,
   "metadata": {},
   "outputs": [],
   "source": []
  },
  {
   "cell_type": "code",
   "execution_count": null,
   "metadata": {},
   "outputs": [],
   "source": []
  },
  {
   "cell_type": "code",
   "execution_count": null,
   "metadata": {},
   "outputs": [],
   "source": []
  },
  {
   "cell_type": "code",
   "execution_count": null,
   "metadata": {},
   "outputs": [],
   "source": []
  },
  {
   "cell_type": "code",
   "execution_count": null,
   "metadata": {},
   "outputs": [],
   "source": []
  },
  {
   "cell_type": "code",
   "execution_count": null,
   "metadata": {},
   "outputs": [],
   "source": []
  }
 ],
 "metadata": {
  "kernelspec": {
   "display_name": "Python 3",
   "language": "python",
   "name": "python3"
  },
  "language_info": {
   "codemirror_mode": {
    "name": "ipython",
    "version": 3
   },
   "file_extension": ".py",
   "mimetype": "text/x-python",
   "name": "python",
   "nbconvert_exporter": "python",
   "pygments_lexer": "ipython3",
   "version": "3.5.2"
  }
 },
 "nbformat": 4,
 "nbformat_minor": 2
}
