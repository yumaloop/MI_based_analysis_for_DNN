{
 "cells": [
  {
   "cell_type": "markdown",
   "metadata": {},
   "source": [
    "MINE paper: https://arxiv.org/pdf/1801.04062.pdf"
   ]
  },
  {
   "cell_type": "code",
   "execution_count": 1,
   "metadata": {},
   "outputs": [],
   "source": [
    "import os \n",
    "os.environ[\"CUDA_VISIBLE_DEVICES\"]=\"0\"\n",
    "\n",
    "import sys\n",
    "import numpy as np\n",
    "\n",
    "import torch\n",
    "import torchvision\n",
    "import torch.nn as nn\n",
    "import torch.nn.functional as F\n",
    "import torch.optim as optim\n",
    "import torch.autograd as autograd\n",
    "\n",
    "import pycuda.driver as cuda\n",
    "\n",
    "import seaborn as sns\n",
    "import matplotlib.pyplot as plt\n",
    "%matplotlib inline"
   ]
  },
  {
   "cell_type": "code",
   "execution_count": 2,
   "metadata": {},
   "outputs": [
    {
     "name": "stdout",
     "output_type": "stream",
     "text": [
      "Setting Info\n",
      "=========\n",
      "- use_cuda:  True\n",
      "- Path:  /home/uchiumi/JNNS2019/mnist_pytorch\n",
      "- PyTorch 1.0.1.post2\n",
      "- Python:  3.5.2 (default, Nov 12 2018, 13:43:14) \n",
      "[GCC 5.4.0 20160609]\n"
     ]
    }
   ],
   "source": [
    "use_cuda = torch.cuda.is_available()\n",
    "print(\"Setting Info\")\n",
    "print(\"=========\")\n",
    "print(\"- use_cuda: \", use_cuda)\n",
    "print(\"- Path: \", os.getcwd())\n",
    "print(\"- PyTorch\", torch.__version__)\n",
    "print(\"- Python: \", sys.version)"
   ]
  },
  {
   "cell_type": "code",
   "execution_count": 11,
   "metadata": {},
   "outputs": [],
   "source": [
    "n_epochs = 10\n",
    "batch_size_train = 128\n",
    "batch_size_test = 1000\n",
    "learning_rate = 0.01\n",
    "momentum = 0.5\n",
    "log_interval = 100\n",
    "\n",
    "random_seed = 1\n",
    "torch.backends.cudnn.enabled = False"
   ]
  },
  {
   "cell_type": "code",
   "execution_count": 12,
   "metadata": {},
   "outputs": [],
   "source": [
    "# train\n",
    "train_loader = torch.utils.data.DataLoader(\n",
    "  torchvision.datasets.MNIST('./data', \n",
    "                             train=True, \n",
    "                             download=True,\n",
    "                             transform=torchvision.transforms.Compose([\n",
    "                               torchvision.transforms.ToTensor(),\n",
    "                               torchvision.transforms.Normalize(\n",
    "                                 (0.1307,), (0.3081,))\n",
    "                             ])),\n",
    "  batch_size=batch_size_train, shuffle=True)\n",
    "\n",
    "# test\n",
    "test_loader = torch.utils.data.DataLoader(\n",
    "  torchvision.datasets.MNIST('./data', \n",
    "                             train=False, \n",
    "                             download=True,\n",
    "                             transform=torchvision.transforms.Compose([\n",
    "                               torchvision.transforms.ToTensor(),\n",
    "                               torchvision.transforms.Normalize(\n",
    "                                 (0.1307,), (0.3081,))\n",
    "                             ])),\n",
    "  batch_size=batch_size_test, shuffle=True)"
   ]
  },
  {
   "cell_type": "code",
   "execution_count": 13,
   "metadata": {},
   "outputs": [],
   "source": [
    "examples = enumerate(test_loader)\n",
    "batch_idx, (example_data, example_targets) = next(examples)"
   ]
  },
  {
   "cell_type": "code",
   "execution_count": 14,
   "metadata": {},
   "outputs": [
    {
     "data": {
      "text/plain": [
       "torch.Size([1000, 1, 28, 28])"
      ]
     },
     "execution_count": 14,
     "metadata": {},
     "output_type": "execute_result"
    }
   ],
   "source": [
    "example_data.shape"
   ]
  },
  {
   "cell_type": "markdown",
   "metadata": {},
   "source": [
    "## Building the Network"
   ]
  },
  {
   "cell_type": "code",
   "execution_count": 15,
   "metadata": {},
   "outputs": [],
   "source": [
    "class Net(nn.Module):\n",
    "    def __init__(self):\n",
    "        super(Net, self).__init__()\n",
    "        self.conv1 = nn.Conv2d(1, 10, kernel_size=5)\n",
    "        self.conv2 = nn.Conv2d(10, 20, kernel_size=5)\n",
    "        self.conv2_drop = nn.Dropout2d()\n",
    "        self.fc1 = nn.Linear(320, 50)\n",
    "        self.fc2 = nn.Linear(50, 10)\n",
    "\n",
    "    def forward(self, x):\n",
    "        layer_values={}\n",
    "        layer_values[\"input_image\"]=x\n",
    "        x = F.relu(F.max_pool2d(self.conv1(x), 2))\n",
    "        layer_values[\"conv1_output\"]=x\n",
    "        x = F.relu(F.max_pool2d(self.conv2_drop(self.conv2(x)), 2))\n",
    "        layer_values[\"conv2_output\"]=x\n",
    "        x = x.view(-1, 320)\n",
    "        x = F.relu(self.fc1(x))\n",
    "        layer_values[\"fc1_output\"]=x\n",
    "        x = F.dropout(x, training=self.training)\n",
    "        x = self.fc2(x)\n",
    "        layer_values[\"fc2_output\"]=x\n",
    "        x = F.log_softmax(x)\n",
    "        layer_values[\"output_softmax\"]=x\n",
    "        \n",
    "        return layer_values"
   ]
  },
  {
   "cell_type": "markdown",
   "metadata": {},
   "source": [
    "## Training the Model"
   ]
  },
  {
   "cell_type": "code",
   "execution_count": 16,
   "metadata": {},
   "outputs": [],
   "source": [
    "network = Net()\n",
    "optimizer = optim.SGD(network.parameters(), lr=learning_rate, momentum=momentum)"
   ]
  },
  {
   "cell_type": "code",
   "execution_count": 17,
   "metadata": {},
   "outputs": [],
   "source": [
    "train_losses = []\n",
    "train_counter = []\n",
    "test_losses = []\n",
    "test_counter = [i*len(train_loader.dataset) for i in range(1, n_epochs+1)]"
   ]
  },
  {
   "cell_type": "code",
   "execution_count": 18,
   "metadata": {},
   "outputs": [],
   "source": [
    "def model_train(epoch):\n",
    "    network.train()\n",
    "    for batch_idx, (data, target) in enumerate(train_loader):\n",
    "        optimizer.zero_grad()\n",
    "        output = network(data)[\"output_softmax\"]\n",
    "        train_loss = F.nll_loss(output, target)\n",
    "        train_loss.backward()\n",
    "        optimizer.step()\n",
    "        \n",
    "        if batch_idx % log_interval == 0 and batch_idx != 0:\n",
    "            print('epoch: {} [{}/{} ]\\t train loss: {:.6f}'.format(epoch, batch_idx * len(data), len(train_loader.dataset), train_loss.item()))\n",
    "            \n",
    "            train_losses.append(train_loss.item())\n",
    "            train_counter.append((batch_idx * batch_size_train) + ((epoch - 1)*len(train_loader.dataset)))\n",
    "            \n",
    "            torch.save(network.state_dict(), './results/model.pth')\n",
    "            torch.save(optimizer.state_dict(), './results/optimizer.pth')"
   ]
  },
  {
   "cell_type": "code",
   "execution_count": 19,
   "metadata": {},
   "outputs": [],
   "source": [
    "def model_test():\n",
    "    network.eval()\n",
    "    test_loss = 0\n",
    "    nb_correct = 0\n",
    "    \n",
    "    with torch.no_grad():\n",
    "        for batch_idx, (data, target) in enumerate(test_loader):\n",
    "            output = network(data)[\"output_softmax\"]\n",
    "            test_loss += F.nll_loss(output, target, size_average=False).item()\n",
    "            test_batch_loss = F.nll_loss(output, target, size_average=False).item() / batch_size_test\n",
    "            # test_loss /= len(test_loader.dataset)\n",
    "            # test_losses.append(test_loss)\n",
    "            pred = output.data.max(1, keepdim=True)[1]\n",
    "            nb_correct += pred.eq(target.data.view_as(pred)).sum()\n",
    "            print('Test set: Avg. loss: {:.4f}, Accuracy: {}/{}'.format(test_batch_loss, nb_correct, batch_size_test * (batch_idx + 1)))\n",
    "    \n",
    "    test_loss /= len(test_loader.dataset)\n",
    "    test_losses.append(test_loss)"
   ]
  },
  {
   "cell_type": "code",
   "execution_count": 20,
   "metadata": {},
   "outputs": [
    {
     "name": "stderr",
     "output_type": "stream",
     "text": [
      "/home/uchiumi/.local/lib/python3.5/site-packages/ipykernel_launcher.py:23: UserWarning: Implicit dimension choice for log_softmax has been deprecated. Change the call to include dim=X as an argument.\n"
     ]
    },
    {
     "name": "stdout",
     "output_type": "stream",
     "text": [
      "epoch: 1 [12800/60000 ]\t train loss: 1.787463\n",
      "epoch: 1 [25600/60000 ]\t train loss: 1.045102\n",
      "epoch: 1 [38400/60000 ]\t train loss: 0.814315\n",
      "epoch: 1 [51200/60000 ]\t train loss: 0.726596\n"
     ]
    },
    {
     "name": "stderr",
     "output_type": "stream",
     "text": [
      "/home/uchiumi/.local/lib/python3.5/site-packages/torch/nn/_reduction.py:49: UserWarning: size_average and reduce args will be deprecated, please use reduction='sum' instead.\n",
      "  warnings.warn(warning.format(ret))\n"
     ]
    },
    {
     "name": "stdout",
     "output_type": "stream",
     "text": [
      "Test set: Avg. loss: 0.2915, Accuracy: 924/1000\n",
      "Test set: Avg. loss: 0.2736, Accuracy: 1855/2000\n",
      "Test set: Avg. loss: 0.2432, Accuracy: 2786/3000\n",
      "Test set: Avg. loss: 0.3212, Accuracy: 3689/4000\n",
      "Test set: Avg. loss: 0.2949, Accuracy: 4601/5000\n",
      "Test set: Avg. loss: 0.3000, Accuracy: 5516/6000\n",
      "Test set: Avg. loss: 0.2891, Accuracy: 6435/7000\n",
      "Test set: Avg. loss: 0.2770, Accuracy: 7356/8000\n",
      "Test set: Avg. loss: 0.2904, Accuracy: 8271/9000\n",
      "Test set: Avg. loss: 0.3074, Accuracy: 9188/10000\n",
      "epoch: 2 [12800/60000 ]\t train loss: 0.451895\n",
      "epoch: 2 [25600/60000 ]\t train loss: 0.551233\n",
      "epoch: 2 [38400/60000 ]\t train loss: 0.546169\n",
      "epoch: 2 [51200/60000 ]\t train loss: 0.490027\n",
      "Test set: Avg. loss: 0.1550, Accuracy: 955/1000\n",
      "Test set: Avg. loss: 0.1660, Accuracy: 1904/2000\n",
      "Test set: Avg. loss: 0.1504, Accuracy: 2856/3000\n",
      "Test set: Avg. loss: 0.1833, Accuracy: 3802/4000\n",
      "Test set: Avg. loss: 0.1898, Accuracy: 4752/5000\n",
      "Test set: Avg. loss: 0.1764, Accuracy: 5700/6000\n",
      "Test set: Avg. loss: 0.1867, Accuracy: 6639/7000\n",
      "Test set: Avg. loss: 0.2116, Accuracy: 7580/8000\n",
      "Test set: Avg. loss: 0.2093, Accuracy: 8527/9000\n",
      "Test set: Avg. loss: 0.1566, Accuracy: 9479/10000\n",
      "epoch: 3 [12800/60000 ]\t train loss: 0.431309\n",
      "epoch: 3 [25600/60000 ]\t train loss: 0.394927\n",
      "epoch: 3 [38400/60000 ]\t train loss: 0.308310\n",
      "epoch: 3 [51200/60000 ]\t train loss: 0.259254\n",
      "Test set: Avg. loss: 0.1152, Accuracy: 961/1000\n",
      "Test set: Avg. loss: 0.1421, Accuracy: 1921/2000\n",
      "Test set: Avg. loss: 0.1420, Accuracy: 2883/3000\n",
      "Test set: Avg. loss: 0.1553, Accuracy: 3839/4000\n",
      "Test set: Avg. loss: 0.1388, Accuracy: 4791/5000\n",
      "Test set: Avg. loss: 0.1462, Accuracy: 5748/6000\n",
      "Test set: Avg. loss: 0.1308, Accuracy: 6702/7000\n",
      "Test set: Avg. loss: 0.1497, Accuracy: 7655/8000\n",
      "Test set: Avg. loss: 0.1449, Accuracy: 8601/9000\n",
      "Test set: Avg. loss: 0.1339, Accuracy: 9561/10000\n",
      "epoch: 4 [12800/60000 ]\t train loss: 0.347629\n",
      "epoch: 4 [25600/60000 ]\t train loss: 0.253594\n"
     ]
    },
    {
     "ename": "KeyboardInterrupt",
     "evalue": "",
     "output_type": "error",
     "traceback": [
      "\u001b[0;31m---------------------------------------------------------------------------\u001b[0m",
      "\u001b[0;31mKeyboardInterrupt\u001b[0m                         Traceback (most recent call last)",
      "\u001b[0;32m<ipython-input-20-98773676b2db>\u001b[0m in \u001b[0;36m<module>\u001b[0;34m\u001b[0m\n\u001b[1;32m      1\u001b[0m \u001b[0;32mfor\u001b[0m \u001b[0mepoch\u001b[0m \u001b[0;32min\u001b[0m \u001b[0mrange\u001b[0m\u001b[0;34m(\u001b[0m\u001b[0;36m1\u001b[0m\u001b[0;34m,\u001b[0m \u001b[0mn_epochs\u001b[0m \u001b[0;34m+\u001b[0m \u001b[0;36m1\u001b[0m\u001b[0;34m)\u001b[0m\u001b[0;34m:\u001b[0m\u001b[0;34m\u001b[0m\u001b[0m\n\u001b[0;32m----> 2\u001b[0;31m     \u001b[0mmodel_train\u001b[0m\u001b[0;34m(\u001b[0m\u001b[0mepoch\u001b[0m\u001b[0;34m)\u001b[0m\u001b[0;34m\u001b[0m\u001b[0m\n\u001b[0m\u001b[1;32m      3\u001b[0m     \u001b[0mmodel_test\u001b[0m\u001b[0;34m(\u001b[0m\u001b[0;34m)\u001b[0m\u001b[0;34m\u001b[0m\u001b[0m\n",
      "\u001b[0;32m<ipython-input-18-d2af31b76bdf>\u001b[0m in \u001b[0;36mmodel_train\u001b[0;34m(epoch)\u001b[0m\n\u001b[1;32m      5\u001b[0m         \u001b[0moutput\u001b[0m \u001b[0;34m=\u001b[0m \u001b[0mnetwork\u001b[0m\u001b[0;34m(\u001b[0m\u001b[0mdata\u001b[0m\u001b[0;34m)\u001b[0m\u001b[0;34m[\u001b[0m\u001b[0;34m\"output_softmax\"\u001b[0m\u001b[0;34m]\u001b[0m\u001b[0;34m\u001b[0m\u001b[0m\n\u001b[1;32m      6\u001b[0m         \u001b[0mtrain_loss\u001b[0m \u001b[0;34m=\u001b[0m \u001b[0mF\u001b[0m\u001b[0;34m.\u001b[0m\u001b[0mnll_loss\u001b[0m\u001b[0;34m(\u001b[0m\u001b[0moutput\u001b[0m\u001b[0;34m,\u001b[0m \u001b[0mtarget\u001b[0m\u001b[0;34m)\u001b[0m\u001b[0;34m\u001b[0m\u001b[0m\n\u001b[0;32m----> 7\u001b[0;31m         \u001b[0mtrain_loss\u001b[0m\u001b[0;34m.\u001b[0m\u001b[0mbackward\u001b[0m\u001b[0;34m(\u001b[0m\u001b[0;34m)\u001b[0m\u001b[0;34m\u001b[0m\u001b[0m\n\u001b[0m\u001b[1;32m      8\u001b[0m         \u001b[0moptimizer\u001b[0m\u001b[0;34m.\u001b[0m\u001b[0mstep\u001b[0m\u001b[0;34m(\u001b[0m\u001b[0;34m)\u001b[0m\u001b[0;34m\u001b[0m\u001b[0m\n\u001b[1;32m      9\u001b[0m \u001b[0;34m\u001b[0m\u001b[0m\n",
      "\u001b[0;32m~/.local/lib/python3.5/site-packages/torch/tensor.py\u001b[0m in \u001b[0;36mbackward\u001b[0;34m(self, gradient, retain_graph, create_graph)\u001b[0m\n\u001b[1;32m    100\u001b[0m                 \u001b[0mproducts\u001b[0m\u001b[0;34m.\u001b[0m \u001b[0mDefaults\u001b[0m \u001b[0mto\u001b[0m\u001b[0;31m \u001b[0m\u001b[0;31m`\u001b[0m\u001b[0;31m`\u001b[0m\u001b[0;32mFalse\u001b[0m\u001b[0;31m`\u001b[0m\u001b[0;31m`\u001b[0m\u001b[0;34m.\u001b[0m\u001b[0;34m\u001b[0m\u001b[0m\n\u001b[1;32m    101\u001b[0m         \"\"\"\n\u001b[0;32m--> 102\u001b[0;31m         \u001b[0mtorch\u001b[0m\u001b[0;34m.\u001b[0m\u001b[0mautograd\u001b[0m\u001b[0;34m.\u001b[0m\u001b[0mbackward\u001b[0m\u001b[0;34m(\u001b[0m\u001b[0mself\u001b[0m\u001b[0;34m,\u001b[0m \u001b[0mgradient\u001b[0m\u001b[0;34m,\u001b[0m \u001b[0mretain_graph\u001b[0m\u001b[0;34m,\u001b[0m \u001b[0mcreate_graph\u001b[0m\u001b[0;34m)\u001b[0m\u001b[0;34m\u001b[0m\u001b[0m\n\u001b[0m\u001b[1;32m    103\u001b[0m \u001b[0;34m\u001b[0m\u001b[0m\n\u001b[1;32m    104\u001b[0m     \u001b[0;32mdef\u001b[0m \u001b[0mregister_hook\u001b[0m\u001b[0;34m(\u001b[0m\u001b[0mself\u001b[0m\u001b[0;34m,\u001b[0m \u001b[0mhook\u001b[0m\u001b[0;34m)\u001b[0m\u001b[0;34m:\u001b[0m\u001b[0;34m\u001b[0m\u001b[0m\n",
      "\u001b[0;32m~/.local/lib/python3.5/site-packages/torch/autograd/__init__.py\u001b[0m in \u001b[0;36mbackward\u001b[0;34m(tensors, grad_tensors, retain_graph, create_graph, grad_variables)\u001b[0m\n\u001b[1;32m     88\u001b[0m     Variable._execution_engine.run_backward(\n\u001b[1;32m     89\u001b[0m         \u001b[0mtensors\u001b[0m\u001b[0;34m,\u001b[0m \u001b[0mgrad_tensors\u001b[0m\u001b[0;34m,\u001b[0m \u001b[0mretain_graph\u001b[0m\u001b[0;34m,\u001b[0m \u001b[0mcreate_graph\u001b[0m\u001b[0;34m,\u001b[0m\u001b[0;34m\u001b[0m\u001b[0m\n\u001b[0;32m---> 90\u001b[0;31m         allow_unreachable=True)  # allow_unreachable flag\n\u001b[0m\u001b[1;32m     91\u001b[0m \u001b[0;34m\u001b[0m\u001b[0m\n\u001b[1;32m     92\u001b[0m \u001b[0;34m\u001b[0m\u001b[0m\n",
      "\u001b[0;31mKeyboardInterrupt\u001b[0m: "
     ]
    }
   ],
   "source": [
    "for epoch in range(1, n_epochs + 1):\n",
    "    model_train(epoch)\n",
    "    model_test()"
   ]
  },
  {
   "cell_type": "markdown",
   "metadata": {},
   "source": [
    "## Evaluating the Model's Performance"
   ]
  },
  {
   "cell_type": "code",
   "execution_count": null,
   "metadata": {},
   "outputs": [],
   "source": [
    "fig = plt.figure()\n",
    "plt.plot(train_counter, train_losses, color='blue')\n",
    "plt.plot(test_counter, test_losses, color='red')\n",
    "plt.legend(['Train Loss', 'Test Loss'], loc='upper right')\n",
    "plt.xlabel('number of training examples seen')\n",
    "plt.ylabel('negative log likelihood loss')\n",
    "plt.show()"
   ]
  },
  {
   "cell_type": "markdown",
   "metadata": {},
   "source": [
    "## Get nodes values"
   ]
  },
  {
   "cell_type": "markdown",
   "metadata": {},
   "source": [
    "https://www.aiworkbox.com/lessons/examine-mnist-dataset-from-pytorch-torchvision"
   ]
  },
  {
   "cell_type": "code",
   "execution_count": 26,
   "metadata": {},
   "outputs": [],
   "source": [
    "mnist_trainset = torchvision.datasets.MNIST(root='./data', train=True, download=True, transform=None)\n",
    "mnist_testset = torchvision.datasets.MNIST(root='./data', train=False, download=True, transform=None)"
   ]
  },
  {
   "cell_type": "code",
   "execution_count": 27,
   "metadata": {},
   "outputs": [],
   "source": [
    "X_train_0 = np.asarray(mnist_trainset[0][0]) # image\n",
    "y_train_0 = mnist_trainset[0][1] # label"
   ]
  },
  {
   "cell_type": "code",
   "execution_count": 28,
   "metadata": {},
   "outputs": [],
   "source": [
    "# train\n",
    "train_loader_for_MI = torch.utils.data.DataLoader(\n",
    "  torchvision.datasets.MNIST('./data', train=True, download=True,\n",
    "                             transform=torchvision.transforms.Compose([\n",
    "                               torchvision.transforms.ToTensor(),\n",
    "                               torchvision.transforms.Normalize(\n",
    "                                 (0.1307,), (0.3081,))\n",
    "                             ])),\n",
    "  batch_size=1, shuffle=False)\n",
    "\n",
    "# test\n",
    "test_loader_for_MI = torch.utils.data.DataLoader(\n",
    "  torchvision.datasets.MNIST('./data', train=False, download=True,\n",
    "                             transform=torchvision.transforms.Compose([\n",
    "                               torchvision.transforms.ToTensor(),\n",
    "                               torchvision.transforms.Normalize(\n",
    "                                 (0.1307,), (0.3081,))\n",
    "                             ])),\n",
    "  batch_size=1, shuffle=False)"
   ]
  },
  {
   "cell_type": "code",
   "execution_count": null,
   "metadata": {},
   "outputs": [],
   "source": []
  },
  {
   "cell_type": "code",
   "execution_count": null,
   "metadata": {},
   "outputs": [],
   "source": []
  },
  {
   "cell_type": "code",
   "execution_count": 22,
   "metadata": {},
   "outputs": [],
   "source": [
    "# model reload\n",
    "\n",
    "PATH = \"/home/uchiumi/JNNS2019/mnist_pytorch/results/model__2019-0422-1237.pth\"\n",
    "\n",
    "model = Net()\n",
    "model.load_state_dict(torch.load(PATH))"
   ]
  },
  {
   "cell_type": "code",
   "execution_count": null,
   "metadata": {},
   "outputs": [],
   "source": []
  },
  {
   "cell_type": "code",
   "execution_count": null,
   "metadata": {},
   "outputs": [],
   "source": []
  },
  {
   "cell_type": "markdown",
   "metadata": {},
   "source": []
  },
  {
   "cell_type": "code",
   "execution_count": 23,
   "metadata": {},
   "outputs": [],
   "source": [
    "def train_data_for_MI(model):\n",
    "    model.eval()\n",
    "    list = []\n",
    "    with torch.no_grad():\n",
    "        for batch_idx, (data, target) in enumerate(train_loader_for_MI):\n",
    "            result = model(data)\n",
    "            list.append(result)\n",
    "    return list"
   ]
  },
  {
   "cell_type": "code",
   "execution_count": 24,
   "metadata": {},
   "outputs": [],
   "source": [
    "def test_data_for_MI(model):\n",
    "    model.eval()\n",
    "    list = []\n",
    "    with torch.no_grad():\n",
    "        for batch_idx, (data, target) in enumerate(test_loader_for_MI):            \n",
    "            result = model(data)\n",
    "            list.append(result)\n",
    "    return list"
   ]
  },
  {
   "cell_type": "code",
   "execution_count": 29,
   "metadata": {},
   "outputs": [
    {
     "name": "stderr",
     "output_type": "stream",
     "text": [
      "/home/uchiumi/.local/lib/python3.5/site-packages/ipykernel_launcher.py:23: UserWarning: Implicit dimension choice for log_softmax has been deprecated. Change the call to include dim=X as an argument.\n"
     ]
    }
   ],
   "source": [
    "list = train_data_for_MI(model)"
   ]
  },
  {
   "cell_type": "code",
   "execution_count": 30,
   "metadata": {},
   "outputs": [
    {
     "data": {
      "text/plain": [
       "60000"
      ]
     },
     "execution_count": 30,
     "metadata": {},
     "output_type": "execute_result"
    }
   ],
   "source": [
    "len(list)"
   ]
  },
  {
   "cell_type": "code",
   "execution_count": 31,
   "metadata": {},
   "outputs": [
    {
     "data": {
      "text/plain": [
       "dict_keys(['conv1_output', 'conv2_output', 'output_softmax', 'input_image', 'fc1_output', 'fc2_output'])"
      ]
     },
     "execution_count": 31,
     "metadata": {},
     "output_type": "execute_result"
    }
   ],
   "source": [
    "list[0].keys()"
   ]
  },
  {
   "cell_type": "code",
   "execution_count": 32,
   "metadata": {},
   "outputs": [
    {
     "name": "stdout",
     "output_type": "stream",
     "text": [
      "input_image torch.Size([1, 1, 28, 28])\n",
      "torch.Size([1, 10, 12, 12])\n",
      "torch.Size([1, 20, 4, 4])\n",
      "torch.Size([1, 50])\n",
      "torch.Size([1, 10])\n",
      "torch.Size([1, 10])\n"
     ]
    }
   ],
   "source": [
    "print(\"input_image\", list[0][\"input_image\"].shape)\n",
    "print(list[0][\"conv1_output\"].shape)\n",
    "print(list[0][\"conv2_output\"].shape)\n",
    "print(list[0][\"fc1_output\"].shape)\n",
    "print(list[0][\"fc2_output\"].shape)\n",
    "print(list[0][\"output_softmax\"].shape)"
   ]
  },
  {
   "cell_type": "code",
   "execution_count": 23,
   "metadata": {},
   "outputs": [],
   "source": [
    "tensordata_input_image = []\n",
    "tensordata_conv1_output = []\n",
    "tensordata_conv2_output = []\n",
    "tensordata_fc1_output = []\n",
    "tensordata_fc2_output = []\n",
    "tensordata_output_softmax = []\n",
    "\n",
    "for i in range(len(train_loader_for_MI)):\n",
    "    tensordata_input_image.append(list[i][\"input_image\"].data.numpy().flatten())\n",
    "    tensordata_conv1_output.append(list[i][\"conv1_output\"].data.numpy().flatten())\n",
    "    tensordata_conv2_output.append(list[i][\"conv2_output\"].data.numpy().flatten())\n",
    "    tensordata_fc1_output.append(list[i][\"fc1_output\"].data.numpy().flatten())\n",
    "    tensordata_fc1_output.append(list[i][\"fc2_output\"].data.numpy().flatten())\n",
    "    tensordata_output_softmax.append(list[i][\"output_softmax\"].data.numpy().flatten())\n"
   ]
  },
  {
   "cell_type": "code",
   "execution_count": 24,
   "metadata": {},
   "outputs": [],
   "source": [
    "tensordata_input_image = np.array(tensordata_input_image)\n",
    "tensordata_conv1_output = np.array(tensordata_conv1_output)\n",
    "tensordata_conv2_output = np.array(tensordata_conv2_output)\n",
    "tensordata_fc1_output = np.array(tensordata_fc1_output)\n",
    "tensordata_fc2_output = np.array(tensordata_fc2_output)\n",
    "tensordata_output_softmax = np.array(tensordata_output_softmax)"
   ]
  },
  {
   "cell_type": "markdown",
   "metadata": {},
   "source": [
    "## MINE (試作ver.)"
   ]
  },
  {
   "cell_type": "code",
   "execution_count": 25,
   "metadata": {},
   "outputs": [],
   "source": [
    "x = tensordata_conv1_output\n",
    "y = tensordata_conv2_output\n",
    "z = np.concatenate([x, y], axis=1)"
   ]
  },
  {
   "cell_type": "code",
   "execution_count": 26,
   "metadata": {},
   "outputs": [
    {
     "name": "stdout",
     "output_type": "stream",
     "text": [
      "(60000, 1440)\n",
      "(60000, 320)\n",
      "(60000, 1760)\n"
     ]
    }
   ],
   "source": [
    "print(x.shape)\n",
    "print(y.shape)\n",
    "print(z.shape)"
   ]
  },
  {
   "cell_type": "code",
   "execution_count": 27,
   "metadata": {},
   "outputs": [],
   "source": [
    "def sample_batch(x, y, sample_size, batch_size=int(1e2), sample_mode='joint'):\n",
    "    if sample_mode == 'joint':\n",
    "        index_1 = np.random.choice(range(sample_size), size=batch_size, replace=False)\n",
    "        z = np.concatenate([x, y], axis=1)\n",
    "        batch = z[index_1]\n",
    "    elif sample_mode == 'marginal':\n",
    "        index_1 = np.random.choice(range(sample_size), size=batch_size, replace=False)\n",
    "        index_2 = np.random.choice(range(sample_size), size=batch_size, replace=False)\n",
    "        batch = np.concatenate([x[index_1], y[index_2]], axis=1)\n",
    "        \n",
    "    return batch"
   ]
  },
  {
   "cell_type": "code",
   "execution_count": 28,
   "metadata": {},
   "outputs": [
    {
     "name": "stdout",
     "output_type": "stream",
     "text": [
      "(1000, 1760)\n",
      "(1000, 1760)\n"
     ]
    }
   ],
   "source": [
    "# joint & marginal sample\n",
    "joint_data = sample_batch(x, y, x.shape[0], batch_size=1000, sample_mode='joint')\n",
    "marginal_data = sample_batch(x, y, x.shape[0], batch_size=1000,sample_mode='marginal')\n",
    "\n",
    "print(joint_data.shape)\n",
    "print(marginal_data.shape)"
   ]
  },
  {
   "cell_type": "code",
   "execution_count": null,
   "metadata": {},
   "outputs": [],
   "source": []
  },
  {
   "cell_type": "code",
   "execution_count": 35,
   "metadata": {},
   "outputs": [],
   "source": [
    "class StochasticNet(nn.Module):\n",
    "    def __init__(self, xdim=1, ydim=1, hidden_size=10000):\n",
    "        super().__init__()\n",
    "        self.xdim = xdim\n",
    "        self.ydim = ydim\n",
    "        \n",
    "        self.fc1 = nn.Linear(self.xdim+self.ydim, 1024)\n",
    "        self.fc2 = nn.Linear(1024, 512)\n",
    "        self.fc3 = nn.Linear(512, 256)\n",
    "        self.fc4 = nn.Linear(256, 128)\n",
    "        self.fc5 = nn.Linear(128, 1)\n",
    "        nn.init.normal_(self.fc1.weight, std=0.02)\n",
    "        nn.init.constant_(self.fc1.bias, 0)\n",
    "        nn.init.normal_(self.fc2.weight, std=0.02)\n",
    "        nn.init.constant_(self.fc2.bias, 0)\n",
    "        nn.init.normal_(self.fc3.weight, std=0.02)\n",
    "        nn.init.constant_(self.fc3.bias, 0)\n",
    "        nn.init.normal_(self.fc4.weight, std=0.02)\n",
    "        nn.init.constant_(self.fc4.bias, 0)\n",
    "        nn.init.normal_(self.fc5.weight, std=0.02)\n",
    "        nn.init.constant_(self.fc5.bias, 0)\n",
    "        \n",
    "    def forward(self, input_):\n",
    "        output = F.relu(self.fc1(input_))\n",
    "        output = F.dropout(output, p=0.2, training=True)\n",
    "        output = F.relu(self.fc2(output))\n",
    "        output = F.dropout(output, p=0.2, training=True)\n",
    "        output = F.relu(self.fc3(output))\n",
    "        output = F.dropout(output, p=0.2, training=True)\n",
    "        output = F.relu(self.fc4(output))\n",
    "        output = F.dropout(output, p=0.2, training=True)\n",
    "        output = self.fc5(output)\n",
    "        return output"
   ]
  },
  {
   "cell_type": "code",
   "execution_count": 30,
   "metadata": {},
   "outputs": [],
   "source": [
    "def calc_MI_LowerBound(joint, marginal, net):\n",
    "    t = net(joint)\n",
    "    et = torch.exp(net(marginal))\n",
    "    mi_lb = torch.mean(t) - torch.log(torch.mean(et)) # Lower bound for MI\n",
    "    return mi_lb, t, et"
   ]
  },
  {
   "cell_type": "code",
   "execution_count": 31,
   "metadata": {},
   "outputs": [],
   "source": [
    "def update(joint_batch, marginal_batch, net, optimizer, ma_et, ma_rate=0.01):\n",
    "    # batch is a tuple of (joint, marginal)\n",
    "    joint_batch = torch.autograd.Variable(torch.FloatTensor(joint_batch)).cuda()\n",
    "    marginal_batch = torch.autograd.Variable(torch.FloatTensor(marginal_batch)).cuda()\n",
    "    \n",
    "    mi_lb , t, et = calc_MI_LowerBound(joint_batch, marginal_batch, net)\n",
    "    \n",
    "    # unbiasing use moving average\n",
    "    ma_et = (1 - ma_rate) * ma_et + ma_rate * torch.mean(et)\n",
    "    loss = -1 * (torch.mean(t) - (1 / ma_et.mean()).detach() * torch.mean(et)) # original loss function\n",
    "    # use biased estimator\n",
    "    # loss = - mi_lb\n",
    "    \n",
    "    optimizer.zero_grad()\n",
    "    autograd.backward(loss)\n",
    "    optimizer.step()\n",
    "    \n",
    "    return mi_lb, ma_et, loss"
   ]
  },
  {
   "cell_type": "code",
   "execution_count": 37,
   "metadata": {},
   "outputs": [],
   "source": [
    "def train(x, y, net, optimizer, batch_size=1000, nb_epoch=int(5e+4), log_freq=int(5e+2)):\n",
    "\n",
    "    mi_lower_bounds = []\n",
    "    losses = []\n",
    "    # moving average of exp(T)\n",
    "    ma_et = 1.\n",
    "    \n",
    "    for i in range(nb_epoch):\n",
    "        if x.shape[0] != y.shape[0]: \n",
    "            print(\"shape error.\")\n",
    "            break\n",
    "            \n",
    "        sample_size = x.shape[0]\n",
    "        joint_batch = sample_batch(x, y, sample_size, batch_size=batch_size, sample_mode='joint')\n",
    "        marginal_batch = sample_batch(x, y, sample_size, batch_size=batch_size, sample_mode='marginal')\n",
    "        \n",
    "        mi_lb, ma_et, loss = update(joint_batch, marginal_batch, net, optimizer, ma_et)\n",
    "        mi_lower_bounds.append(mi_lb.detach().cpu().numpy())\n",
    "        losses.append(loss)\n",
    "        \n",
    "        if (i + 1) % (log_freq) == 0:\n",
    "            print('epoch: {:>6} \\t MI lower bounds: {:2.4f} \\t Loss of MINE: {:2.4f}'.format(i+1, mi_lower_bounds[-1], losses[-1]))\n",
    "            \n",
    "    return mi_lower_bounds, losses"
   ]
  },
  {
   "cell_type": "code",
   "execution_count": 33,
   "metadata": {},
   "outputs": [],
   "source": [
    "# moving average\n",
    "def ma(array, window_size=100):\n",
    "    return [np.mean(array[i : i + window_size]) for i in range(0, len(array) - window_size)]"
   ]
  },
  {
   "cell_type": "code",
   "execution_count": null,
   "metadata": {},
   "outputs": [
    {
     "name": "stdout",
     "output_type": "stream",
     "text": [
      "epoch:    500 \t MI lower bounds: 6.9652 \t Loss of MINE: -2.8194\n",
      "epoch:   1000 \t MI lower bounds: 4.6877 \t Loss of MINE: -2.6997\n",
      "epoch:   1500 \t MI lower bounds: 1.4051 \t Loss of MINE: 0.5222\n",
      "epoch:   2000 \t MI lower bounds: 6.8507 \t Loss of MINE: -2.7026\n",
      "epoch:   2500 \t MI lower bounds: 8.3592 \t Loss of MINE: -4.3389\n",
      "epoch:   3000 \t MI lower bounds: 3.9325 \t Loss of MINE: -0.5678\n",
      "epoch:   3500 \t MI lower bounds: 6.8348 \t Loss of MINE: -2.6565\n",
      "epoch:   4000 \t MI lower bounds: 7.1630 \t Loss of MINE: -2.4320\n",
      "epoch:   4500 \t MI lower bounds: 6.1829 \t Loss of MINE: -1.2273\n",
      "epoch:   5000 \t MI lower bounds: 2.9296 \t Loss of MINE: 2.3008\n",
      "epoch:   5500 \t MI lower bounds: 6.6761 \t Loss of MINE: -0.8939\n",
      "epoch:   6000 \t MI lower bounds: 8.8243 \t Loss of MINE: -2.2747\n",
      "epoch:   6500 \t MI lower bounds: 6.1483 \t Loss of MINE: -0.3390\n",
      "epoch:   7000 \t MI lower bounds: 7.3269 \t Loss of MINE: -1.0052\n",
      "epoch:   7500 \t MI lower bounds: 6.8829 \t Loss of MINE: -0.4273\n",
      "epoch:   8000 \t MI lower bounds: 4.4865 \t Loss of MINE: 6.8810\n",
      "epoch:   8500 \t MI lower bounds: 6.6370 \t Loss of MINE: 0.0076\n",
      "epoch:   9000 \t MI lower bounds: 6.4016 \t Loss of MINE: -0.0908\n",
      "epoch:   9500 \t MI lower bounds: 8.5994 \t Loss of MINE: -1.4639\n",
      "epoch:  10000 \t MI lower bounds: 8.9583 \t Loss of MINE: -1.5339\n",
      "epoch:  10500 \t MI lower bounds: 6.6028 \t Loss of MINE: 1.7463\n",
      "epoch:  11000 \t MI lower bounds: 1.9494 \t Loss of MINE: 4.0995\n",
      "epoch:  11500 \t MI lower bounds: 7.7331 \t Loss of MINE: -0.8556\n",
      "epoch:  12000 \t MI lower bounds: 4.8869 \t Loss of MINE: 1.7915\n",
      "epoch:  12500 \t MI lower bounds: 9.0686 \t Loss of MINE: -0.5515\n",
      "epoch:  13000 \t MI lower bounds: 10.9982 \t Loss of MINE: -0.4834\n",
      "epoch:  13500 \t MI lower bounds: 8.4208 \t Loss of MINE: 1.7406\n",
      "epoch:  14000 \t MI lower bounds: 5.5103 \t Loss of MINE: 2.2856\n",
      "epoch:  14500 \t MI lower bounds: 7.0521 \t Loss of MINE: 2.7638\n",
      "epoch:  15000 \t MI lower bounds: 3.6181 \t Loss of MINE: 4.2339\n",
      "epoch:  15500 \t MI lower bounds: 8.6612 \t Loss of MINE: 0.7005\n",
      "epoch:  16000 \t MI lower bounds: 7.9525 \t Loss of MINE: 0.3414\n",
      "epoch:  16500 \t MI lower bounds: 7.3335 \t Loss of MINE: 4.6880\n",
      "epoch:  17000 \t MI lower bounds: 6.4971 \t Loss of MINE: 3.1546\n",
      "epoch:  17500 \t MI lower bounds: 11.0706 \t Loss of MINE: -0.3850\n",
      "epoch:  18000 \t MI lower bounds: 7.7975 \t Loss of MINE: 1.3654\n",
      "epoch:  18500 \t MI lower bounds: 9.3895 \t Loss of MINE: 0.4024\n",
      "epoch:  19000 \t MI lower bounds: 9.4252 \t Loss of MINE: 1.5326\n",
      "epoch:  19500 \t MI lower bounds: 6.8192 \t Loss of MINE: 0.9216\n",
      "epoch:  20000 \t MI lower bounds: 9.5511 \t Loss of MINE: -0.2135\n",
      "epoch:  20500 \t MI lower bounds: 7.1796 \t Loss of MINE: 1.4890\n",
      "epoch:  21000 \t MI lower bounds: 5.6250 \t Loss of MINE: 1.5722\n",
      "epoch:  21500 \t MI lower bounds: 7.2546 \t Loss of MINE: 0.7059\n",
      "epoch:  22000 \t MI lower bounds: 4.7141 \t Loss of MINE: 3.8900\n",
      "epoch:  22500 \t MI lower bounds: 9.5119 \t Loss of MINE: 1.8742\n",
      "epoch:  23000 \t MI lower bounds: 4.9641 \t Loss of MINE: 5.3246\n",
      "epoch:  23500 \t MI lower bounds: 7.4013 \t Loss of MINE: -0.5725\n",
      "epoch:  24000 \t MI lower bounds: 7.3540 \t Loss of MINE: -0.1362\n",
      "epoch:  24500 \t MI lower bounds: 3.8571 \t Loss of MINE: 3.8890\n"
     ]
    }
   ],
   "source": [
    "net = StochasticNet(xdim=x.shape[1], ydim=y.shape[1]).cuda()\n",
    "optimizer = optim.Adam(net.parameters(), lr=1e-4)\n",
    "\n",
    "mi_lower_bounds, losses = train(x, y, net, optimizer)"
   ]
  },
  {
   "cell_type": "code",
   "execution_count": null,
   "metadata": {},
   "outputs": [],
   "source": []
  },
  {
   "cell_type": "code",
   "execution_count": null,
   "metadata": {},
   "outputs": [],
   "source": [
    "# MI lower boundsのプロット\n",
    "\n",
    "mi_lower_bound_ma = ma(mi_lower_bounds, window_size=200)\n",
    "\n",
    "plt.title(\"Moving Average of MI(X, Y) \\n  (window_size=200)\")\n",
    "plt.xlabel(\"epoch\")\n",
    "plt.ylabel(\"MA of MI(X, Y)\")\n",
    "plt.plot(range(len(mi_lower_bound_ma)), mi_lower_bound_ma)\n",
    "plt.show()\n",
    "\n",
    "print(\"Final value of MI: \", mi_lower_bound_ma[-1])"
   ]
  },
  {
   "cell_type": "code",
   "execution_count": null,
   "metadata": {},
   "outputs": [],
   "source": []
  },
  {
   "cell_type": "code",
   "execution_count": null,
   "metadata": {},
   "outputs": [],
   "source": []
  },
  {
   "cell_type": "code",
   "execution_count": null,
   "metadata": {},
   "outputs": [],
   "source": []
  },
  {
   "cell_type": "code",
   "execution_count": null,
   "metadata": {},
   "outputs": [],
   "source": []
  },
  {
   "cell_type": "code",
   "execution_count": null,
   "metadata": {},
   "outputs": [],
   "source": []
  },
  {
   "cell_type": "code",
   "execution_count": null,
   "metadata": {},
   "outputs": [],
   "source": [
    "# MI lower boundsのプロット\n",
    "\n",
    "mi_lower_bound_ma = ma(mi_lower_bounds, window_size=200)\n",
    "\n",
    "plt.title(\"Moving Average of MI(X, Y) \\n  (window_size=200)\")\n",
    "plt.xlabel(\"epoch\")\n",
    "plt.ylabel(\"MA of MI(X, Y)\")\n",
    "plt.plot(range(len(mi_lower_bound_ma)), mi_lower_bound_ma)\n",
    "plt.show()\n",
    "\n",
    "print(\"Final value of MI: \", mi_lower_bound_ma[-1])"
   ]
  },
  {
   "cell_type": "code",
   "execution_count": null,
   "metadata": {},
   "outputs": [],
   "source": [
    "# Lossのプロット\n",
    "\n",
    "plt.title(\"Loss of MINE \\n  (window_size=200)\")\n",
    "plt.xlabel(\"epoch\")\n",
    "plt.ylabel(\"MA of MI(X, Y)\")\n",
    "plt.plot(range(len(losses)), losses)\n",
    "plt.show()\n",
    "\n",
    "print(\"Final value of Loss: \", losses[-1])"
   ]
  },
  {
   "cell_type": "code",
   "execution_count": null,
   "metadata": {},
   "outputs": [],
   "source": []
  },
  {
   "cell_type": "code",
   "execution_count": null,
   "metadata": {},
   "outputs": [],
   "source": []
  },
  {
   "cell_type": "code",
   "execution_count": null,
   "metadata": {},
   "outputs": [],
   "source": []
  },
  {
   "cell_type": "code",
   "execution_count": null,
   "metadata": {},
   "outputs": [],
   "source": []
  },
  {
   "cell_type": "code",
   "execution_count": null,
   "metadata": {},
   "outputs": [],
   "source": []
  },
  {
   "cell_type": "code",
   "execution_count": null,
   "metadata": {},
   "outputs": [],
   "source": []
  },
  {
   "cell_type": "code",
   "execution_count": null,
   "metadata": {},
   "outputs": [],
   "source": []
  },
  {
   "cell_type": "code",
   "execution_count": null,
   "metadata": {},
   "outputs": [],
   "source": []
  },
  {
   "cell_type": "code",
   "execution_count": null,
   "metadata": {},
   "outputs": [],
   "source": []
  },
  {
   "cell_type": "code",
   "execution_count": null,
   "metadata": {},
   "outputs": [],
   "source": []
  },
  {
   "cell_type": "code",
   "execution_count": null,
   "metadata": {},
   "outputs": [],
   "source": []
  },
  {
   "cell_type": "code",
   "execution_count": null,
   "metadata": {},
   "outputs": [],
   "source": []
  },
  {
   "cell_type": "code",
   "execution_count": null,
   "metadata": {},
   "outputs": [],
   "source": []
  }
 ],
 "metadata": {
  "kernelspec": {
   "display_name": "Python 3",
   "language": "python",
   "name": "python3"
  },
  "language_info": {
   "codemirror_mode": {
    "name": "ipython",
    "version": 3
   },
   "file_extension": ".py",
   "mimetype": "text/x-python",
   "name": "python",
   "nbconvert_exporter": "python",
   "pygments_lexer": "ipython3",
   "version": "3.5.2"
  }
 },
 "nbformat": 4,
 "nbformat_minor": 2
}
