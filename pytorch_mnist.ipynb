{
 "cells": [
  {
   "cell_type": "code",
   "execution_count": 11,
   "metadata": {},
   "outputs": [
    {
     "ename": "SyntaxError",
     "evalue": "invalid syntax (<ipython-input-11-ccfdba09f2fe>, line 1)",
     "output_type": "error",
     "traceback": [
      "\u001b[0;36m  File \u001b[0;32m\"<ipython-input-11-ccfdba09f2fe>\"\u001b[0;36m, line \u001b[0;32m1\u001b[0m\n\u001b[0;31m    //gist.github.com/xmfbit/b27cdbff68870418bdb8cefa86a2d558\u001b[0m\n\u001b[0m     ^\u001b[0m\n\u001b[0;31mSyntaxError\u001b[0m\u001b[0;31m:\u001b[0m invalid syntax\n"
     ]
    }
   ],
   "source": [
    "//gist.github.com/xmfbit/b27cdbff68870418bdb8cefa86a2d558"
   ]
  },
  {
   "cell_type": "code",
   "execution_count": 1,
   "metadata": {},
   "outputs": [
    {
     "name": "stdout",
     "output_type": "stream",
     "text": [
      "/home/uchiumi/JNNS2019/mnist_pytorch\r\n"
     ]
    }
   ],
   "source": [
    "!pwd"
   ]
  },
  {
   "cell_type": "code",
   "execution_count": 2,
   "metadata": {},
   "outputs": [],
   "source": [
    "import os\n",
    "import torch\n",
    "import torch.nn as nn\n",
    "from torch.autograd import Variable\n",
    "import torchvision.datasets as dset\n",
    "import torchvision.transforms as transforms\n",
    "import torch.nn.functional as F\n",
    "import torch.optim as optim"
   ]
  },
  {
   "cell_type": "code",
   "execution_count": 3,
   "metadata": {},
   "outputs": [
    {
     "data": {
      "text/plain": [
       "True"
      ]
     },
     "execution_count": 3,
     "metadata": {},
     "output_type": "execute_result"
    }
   ],
   "source": [
    "use_cuda = torch.cuda.is_available()\n",
    "use_cuda"
   ]
  },
  {
   "cell_type": "code",
   "execution_count": 4,
   "metadata": {},
   "outputs": [
    {
     "name": "stdout",
     "output_type": "stream",
     "text": [
      "==>>> total trainning batch number: 600\n",
      "==>>> total testing batch number: 100\n"
     ]
    }
   ],
   "source": [
    "## load mnist dataset\n",
    "root = './data'\n",
    "if not os.path.exists(root):\n",
    "    os.mkdir(root)\n",
    "    \n",
    "trans = transforms.Compose([transforms.ToTensor(), transforms.Normalize((0.5,), (1.0,))])\n",
    "# if not exist, download mnist dataset\n",
    "train_set = dset.MNIST(root=root, train=True, transform=trans, download=True)\n",
    "test_set = dset.MNIST(root=root, train=False, transform=trans, download=True)\n",
    "\n",
    "batch_size = 100\n",
    "\n",
    "train_loader = torch.utils.data.DataLoader(\n",
    "                 dataset=train_set,\n",
    "                 batch_size=batch_size,\n",
    "                 shuffle=True)\n",
    "test_loader = torch.utils.data.DataLoader(\n",
    "                dataset=test_set,\n",
    "                batch_size=batch_size,\n",
    "                shuffle=False)\n",
    "\n",
    "print ('==>>> total trainning batch number: {}'.format(len(train_loader)))\n",
    "print ('==>>> total testing batch number: {}'.format(len(test_loader)))"
   ]
  },
  {
   "cell_type": "code",
   "execution_count": 5,
   "metadata": {},
   "outputs": [],
   "source": [
    "## network\n",
    "class MLPNet(nn.Module):\n",
    "    def __init__(self):\n",
    "        super(MLPNet, self).__init__()\n",
    "        self.fc1 = nn.Linear(28*28, 500)\n",
    "        self.fc2 = nn.Linear(500, 256)\n",
    "        self.fc3 = nn.Linear(256, 10)\n",
    "    def forward(self, x):\n",
    "        x = x.view(-1, 28*28)\n",
    "        x = F.relu(self.fc1(x))\n",
    "        x = F.relu(self.fc2(x))\n",
    "        x = self.fc3(x)\n",
    "        return x\n",
    "    \n",
    "    def name(self):\n",
    "        return \"MLP\"\n",
    "\n",
    "class LeNet(nn.Module):\n",
    "    def __init__(self):\n",
    "        super(LeNet, self).__init__()\n",
    "        self.conv1 = nn.Conv2d(1, 20, 5, 1)\n",
    "        self.conv2 = nn.Conv2d(20, 50, 5, 1)\n",
    "        self.fc1 = nn.Linear(4*4*50, 500)\n",
    "        self.fc2 = nn.Linear(500, 10)\n",
    "\n",
    "    def forward(self, x):\n",
    "        x = F.relu(self.conv1(x))\n",
    "        x = F.max_pool2d(x, 2, 2)\n",
    "        x = F.relu(self.conv2(x))\n",
    "        x = F.max_pool2d(x, 2, 2)\n",
    "        x = x.view(-1, 4*4*50)\n",
    "        x = F.relu(self.fc1(x))\n",
    "        x = self.fc2(x)\n",
    "        return x\n",
    "    \n",
    "    def name(self):\n",
    "        return \"LeNet\""
   ]
  },
  {
   "cell_type": "code",
   "execution_count": 6,
   "metadata": {},
   "outputs": [],
   "source": [
    "## training\n",
    "model = LeNet()\n"
   ]
  },
  {
   "cell_type": "code",
   "execution_count": 7,
   "metadata": {},
   "outputs": [],
   "source": [
    "use_cuda = torch.cuda.is_available()\n",
    "\n",
    "if use_cuda:\n",
    "    model = model.cuda()"
   ]
  },
  {
   "cell_type": "code",
   "execution_count": 8,
   "metadata": {},
   "outputs": [],
   "source": [
    "# training settings\n",
    "optimizer = optim.SGD(model.parameters(), lr=0.01, momentum=0.9)\n",
    "criterion = nn.CrossEntropyLoss()\n",
    "nb_epoch=10"
   ]
  },
  {
   "cell_type": "code",
   "execution_count": 9,
   "metadata": {},
   "outputs": [
    {
     "name": "stdout",
     "output_type": "stream",
     "text": [
      "==>>> epoch: 0, batch index: 100, train loss: 0.553069\n",
      "==>>> epoch: 0, batch index: 200, train loss: 0.227927\n",
      "==>>> epoch: 0, batch index: 300, train loss: 0.140592\n",
      "==>>> epoch: 0, batch index: 400, train loss: 0.148910\n",
      "==>>> epoch: 0, batch index: 500, train loss: 0.111968\n",
      "==>>> epoch: 0, batch index: 600, train loss: 0.117628\n"
     ]
    },
    {
     "name": "stderr",
     "output_type": "stream",
     "text": [
      "/home/uchiumi/.local/lib/python3.5/site-packages/ipykernel_launcher.py:25: UserWarning: volatile was removed and now has no effect. Use `with torch.no_grad():` instead.\n"
     ]
    },
    {
     "name": "stdout",
     "output_type": "stream",
     "text": [
      "==>>> epoch: 0, batch index: 100, test loss: 0.077372, acc: 0.000\n",
      "==>>> epoch: 1, batch index: 100, train loss: 0.076538\n",
      "==>>> epoch: 1, batch index: 200, train loss: 0.060597\n",
      "==>>> epoch: 1, batch index: 300, train loss: 0.063326\n",
      "==>>> epoch: 1, batch index: 400, train loss: 0.065268\n",
      "==>>> epoch: 1, batch index: 500, train loss: 0.058244\n",
      "==>>> epoch: 1, batch index: 600, train loss: 0.064291\n",
      "==>>> epoch: 1, batch index: 100, test loss: 0.045043, acc: 0.000\n",
      "==>>> epoch: 2, batch index: 100, train loss: 0.049429\n",
      "==>>> epoch: 2, batch index: 200, train loss: 0.056386\n",
      "==>>> epoch: 2, batch index: 300, train loss: 0.044094\n",
      "==>>> epoch: 2, batch index: 400, train loss: 0.050824\n",
      "==>>> epoch: 2, batch index: 500, train loss: 0.054725\n",
      "==>>> epoch: 2, batch index: 600, train loss: 0.044532\n",
      "==>>> epoch: 2, batch index: 100, test loss: 0.026349, acc: 0.000\n",
      "==>>> epoch: 3, batch index: 100, train loss: 0.034954\n",
      "==>>> epoch: 3, batch index: 200, train loss: 0.043068\n",
      "==>>> epoch: 3, batch index: 300, train loss: 0.037292\n",
      "==>>> epoch: 3, batch index: 400, train loss: 0.035409\n",
      "==>>> epoch: 3, batch index: 500, train loss: 0.037028\n",
      "==>>> epoch: 3, batch index: 600, train loss: 0.037371\n",
      "==>>> epoch: 3, batch index: 100, test loss: 0.019652, acc: 0.000\n",
      "==>>> epoch: 4, batch index: 100, train loss: 0.025637\n",
      "==>>> epoch: 4, batch index: 200, train loss: 0.030117\n",
      "==>>> epoch: 4, batch index: 300, train loss: 0.034239\n",
      "==>>> epoch: 4, batch index: 400, train loss: 0.031821\n",
      "==>>> epoch: 4, batch index: 500, train loss: 0.024297\n",
      "==>>> epoch: 4, batch index: 600, train loss: 0.027258\n",
      "==>>> epoch: 4, batch index: 100, test loss: 0.020643, acc: 0.000\n",
      "==>>> epoch: 5, batch index: 100, train loss: 0.019485\n",
      "==>>> epoch: 5, batch index: 200, train loss: 0.024974\n",
      "==>>> epoch: 5, batch index: 300, train loss: 0.028732\n",
      "==>>> epoch: 5, batch index: 400, train loss: 0.027207\n",
      "==>>> epoch: 5, batch index: 500, train loss: 0.018325\n",
      "==>>> epoch: 5, batch index: 600, train loss: 0.022726\n",
      "==>>> epoch: 5, batch index: 100, test loss: 0.017632, acc: 0.000\n",
      "==>>> epoch: 6, batch index: 100, train loss: 0.020845\n",
      "==>>> epoch: 6, batch index: 200, train loss: 0.029075\n",
      "==>>> epoch: 6, batch index: 300, train loss: 0.018720\n",
      "==>>> epoch: 6, batch index: 400, train loss: 0.016201\n",
      "==>>> epoch: 6, batch index: 500, train loss: 0.040307\n",
      "==>>> epoch: 6, batch index: 600, train loss: 0.015597\n",
      "==>>> epoch: 6, batch index: 100, test loss: 0.018786, acc: 0.000\n",
      "==>>> epoch: 7, batch index: 100, train loss: 0.017303\n",
      "==>>> epoch: 7, batch index: 200, train loss: 0.015492\n",
      "==>>> epoch: 7, batch index: 300, train loss: 0.026659\n",
      "==>>> epoch: 7, batch index: 400, train loss: 0.018171\n",
      "==>>> epoch: 7, batch index: 500, train loss: 0.021259\n",
      "==>>> epoch: 7, batch index: 600, train loss: 0.017926\n",
      "==>>> epoch: 7, batch index: 100, test loss: 0.016405, acc: 0.000\n",
      "==>>> epoch: 8, batch index: 100, train loss: 0.013931\n",
      "==>>> epoch: 8, batch index: 200, train loss: 0.010751\n",
      "==>>> epoch: 8, batch index: 300, train loss: 0.010891\n",
      "==>>> epoch: 8, batch index: 400, train loss: 0.015334\n",
      "==>>> epoch: 8, batch index: 500, train loss: 0.016349\n",
      "==>>> epoch: 8, batch index: 600, train loss: 0.015909\n",
      "==>>> epoch: 8, batch index: 100, test loss: 0.016047, acc: 0.000\n",
      "==>>> epoch: 9, batch index: 100, train loss: 0.009959\n",
      "==>>> epoch: 9, batch index: 200, train loss: 0.024339\n",
      "==>>> epoch: 9, batch index: 300, train loss: 0.012277\n",
      "==>>> epoch: 9, batch index: 400, train loss: 0.008800\n",
      "==>>> epoch: 9, batch index: 500, train loss: 0.008544\n",
      "==>>> epoch: 9, batch index: 600, train loss: 0.012517\n",
      "==>>> epoch: 9, batch index: 100, test loss: 0.016287, acc: 0.000\n"
     ]
    }
   ],
   "source": [
    "# training\n",
    "for epoch in range(nb_epoch):\n",
    "    # learning\n",
    "    ave_loss = 0\n",
    "    for batch_idx, (x, target) in enumerate(train_loader):\n",
    "        optimizer.zero_grad()\n",
    "        if use_cuda:\n",
    "            x, target = x.cuda(), target.cuda()\n",
    "        x, target = Variable(x), Variable(target)\n",
    "        out = model(x)\n",
    "        loss = criterion(out, target)\n",
    "        ave_loss = ave_loss * 0.9 + loss.data.item() * 0.1\n",
    "        loss.backward()\n",
    "        optimizer.step()\n",
    "        if (batch_idx+1) % 100 == 0 or (batch_idx+1) == len(train_loader):\n",
    "            print('==>>> epoch: {}, batch index: {}, train loss: {:.6f}'.format(\n",
    "                epoch, batch_idx+1, ave_loss))\n",
    "            \n",
    "    # testing\n",
    "    correct_cnt, ave_loss = 0, 0\n",
    "    total_cnt = 0\n",
    "    for batch_idx, (x, target) in enumerate(test_loader):\n",
    "        if use_cuda:\n",
    "            x, target = x.cuda(), target.cuda()\n",
    "        x, target = Variable(x, volatile=True), Variable(target, volatile=True)\n",
    "        out = model(x)\n",
    "        loss = criterion(out, target)\n",
    "        _, pred_label = torch.max(out.data, 1)\n",
    "        total_cnt += x.data.size()[0]\n",
    "        correct_cnt += (pred_label == target.data).sum()\n",
    "        # smooth average\n",
    "        ave_loss = ave_loss * 0.9 + loss.data.item() * 0.1\n",
    "        \n",
    "        if(batch_idx+1) % 100 == 0 or (batch_idx+1) == len(test_loader):\n",
    "            print('==>>> epoch: {}, batch index: {}, test loss: {:.6f}, acc: {:.3f}'.format(\n",
    "                epoch, batch_idx+1, ave_loss, correct_cnt * 1.0 / total_cnt))"
   ]
  },
  {
   "cell_type": "code",
   "execution_count": 10,
   "metadata": {},
   "outputs": [],
   "source": [
    "torch.save(model.state_dict(), model.name())"
   ]
  },
  {
   "cell_type": "code",
   "execution_count": null,
   "metadata": {},
   "outputs": [],
   "source": []
  },
  {
   "cell_type": "code",
   "execution_count": null,
   "metadata": {},
   "outputs": [],
   "source": []
  },
  {
   "cell_type": "code",
   "execution_count": null,
   "metadata": {},
   "outputs": [],
   "source": []
  }
 ],
 "metadata": {
  "kernelspec": {
   "display_name": "Python 3",
   "language": "python",
   "name": "python3"
  },
  "language_info": {
   "codemirror_mode": {
    "name": "ipython",
    "version": 3
   },
   "file_extension": ".py",
   "mimetype": "text/x-python",
   "name": "python",
   "nbconvert_exporter": "python",
   "pygments_lexer": "ipython3",
   "version": "3.5.2"
  }
 },
 "nbformat": 4,
 "nbformat_minor": 2
}
